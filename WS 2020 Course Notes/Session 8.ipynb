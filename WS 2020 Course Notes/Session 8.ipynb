{
  "nbformat": 4,
  "nbformat_minor": 0,
  "metadata": {
    "colab": {
      "name": "Session 8.ipynb",
      "provenance": [],
      "authorship_tag": "ABX9TyMXuy7NOc4/CUojWvQcD0xa",
      "include_colab_link": true
    },
    "kernelspec": {
      "name": "python3",
      "display_name": "Python 3"
    }
  },
  "cells": [
    {
      "cell_type": "markdown",
      "metadata": {
        "id": "view-in-github",
        "colab_type": "text"
      },
      "source": [
        "<a href=\"https://colab.research.google.com/github/ds4geo/ds4geo/blob/master/WS%202020%20Course%20Notes/Session%208.ipynb\" target=\"_parent\"><img src=\"https://colab.research.google.com/assets/colab-badge.svg\" alt=\"Open In Colab\"/></a>"
      ]
    },
    {
      "cell_type": "markdown",
      "metadata": {
        "id": "F9xCmP03ngbO"
      },
      "source": [
        "# **Data Science for Geoscientists - Winter Semester 2020**\n",
        "# **Session 8 - Unsupervised Machine Learning - 25th November 2020**"
      ]
    },
    {
      "cell_type": "markdown",
      "metadata": {
        "id": "U9E15PqlngRw"
      },
      "source": [
        "Unsupervised ML\n",
        "PCA, clustering"
      ]
    },
    {
      "cell_type": "markdown",
      "metadata": {
        "id": "N2pfGNVCSSIU"
      },
      "source": [
        "# Part 8.1 - Introduction to Machine Learning - *mini-lecture*\n"
      ]
    },
    {
      "cell_type": "markdown",
      "metadata": {
        "id": "BCxLZ--BSUHx"
      },
      "source": [
        "# Part 8.2 - Unsupervised Machine Learning - *mini-lecture*\n",
        "Machine learning from un-labelled data\n",
        "\n",
        "\n",
        "* Dimensionality reduction\n",
        "* Clustering"
      ]
    },
    {
      "cell_type": "markdown",
      "metadata": {
        "id": "eKs0EhR7tHpl"
      },
      "source": [
        "# Part 8.3 - XRF Core Scan data excercise"
      ]
    },
    {
      "cell_type": "markdown",
      "metadata": {
        "id": "dDiIUc3QSmoJ"
      },
      "source": [
        "## Part 8.3.1 - Introduction to XRF core scan data - *mini-lecture*\n",
        "\n",
        "UPDATE\n",
        "* counts of various elements on track through core.\n",
        "* Difficult to calibrate - water content, density, grain size etc.\n",
        "* CLR - why?\n",
        "* Standardization"
      ]
    },
    {
      "cell_type": "markdown",
      "metadata": {
        "id": "hqojwq-ctS_M"
      },
      "source": [
        "## Part 8.3.2 - Preparing the data - *walkthrough*\n",
        "* Load the data (\"https://raw.githubusercontent.com/ds4geo/ds4geo/master/student_submitted_data/20201013_MHL-11-02-Steven_Huang.txt\")\n",
        "* Plot the data\n",
        "* Centered log ratio\n",
        "* Standardize"
      ]
    },
    {
      "cell_type": "code",
      "metadata": {
        "id": "sEc2thaWnetT"
      },
      "source": [
        "import pandas as pd\n",
        "from scipy.stats.mstats import gmean"
      ],
      "execution_count": null,
      "outputs": []
    },
    {
      "cell_type": "code",
      "metadata": {
        "id": "jwetDJSgtnx4"
      },
      "source": [
        "# Load the data\n",
        "xrf = pd.read_csv(\"https://raw.githubusercontent.com/ds4geo/ds4geo/master/student_submitted_data/20201013_MHL-11-02-Steven_Huang.txt\",header=6, sep=\"\\t\")\n",
        "xrf"
      ],
      "execution_count": null,
      "outputs": []
    },
    {
      "cell_type": "markdown",
      "metadata": {
        "id": "lzOjTjZ0S0_z"
      },
      "source": [
        "# EX 1\n",
        "* load\n",
        "* plot\n",
        "* clr\n",
        "* whiten\n",
        "\n",
        "\n",
        "include sklearn api approach"
      ]
    },
    {
      "cell_type": "code",
      "metadata": {
        "id": "tdxgDAyzS-QU"
      },
      "source": [
        ""
      ],
      "execution_count": null,
      "outputs": []
    },
    {
      "cell_type": "markdown",
      "metadata": {
        "id": "vMWqHvInS-uQ"
      },
      "source": [
        "# PCA lecture"
      ]
    },
    {
      "cell_type": "markdown",
      "metadata": {
        "id": "RHWS4cHSTD84"
      },
      "source": [
        "# EX2 PCA"
      ]
    },
    {
      "cell_type": "code",
      "metadata": {
        "id": "QWCk9dErTGP-"
      },
      "source": [
        ""
      ],
      "execution_count": null,
      "outputs": []
    },
    {
      "cell_type": "markdown",
      "metadata": {
        "id": "7-7slqc_TG3W"
      },
      "source": [
        "# Clustering lecture\n",
        "* detail on k-means\n",
        "* show example matrix and list of methods: https://scikit-learn.org/stable/modules/clustering.html#overview-of-clustering-methods"
      ]
    },
    {
      "cell_type": "markdown",
      "metadata": {
        "id": "bAmv2i-5Tn4L"
      },
      "source": [
        "#EX3 Clustering\n",
        "apply\n",
        "plot down-core\n",
        "interpret in terms of PCA in general"
      ]
    },
    {
      "cell_type": "markdown",
      "metadata": {
        "id": "KmMYbr3yTt4d"
      },
      "source": [
        "# If time, PCA on clusters?"
      ]
    }
  ]
}