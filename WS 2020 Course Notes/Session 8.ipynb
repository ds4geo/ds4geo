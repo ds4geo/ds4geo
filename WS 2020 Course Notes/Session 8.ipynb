{
  "nbformat": 4,
  "nbformat_minor": 0,
  "metadata": {
    "colab": {
      "name": "Session 8.ipynb",
      "provenance": [],
      "authorship_tag": "ABX9TyN0xXMPxazGIeJ2Qs6AvB73",
      "include_colab_link": true
    },
    "kernelspec": {
      "name": "python3",
      "display_name": "Python 3"
    }
  },
  "cells": [
    {
      "cell_type": "markdown",
      "metadata": {
        "id": "view-in-github",
        "colab_type": "text"
      },
      "source": [
        "<a href=\"https://colab.research.google.com/github/ds4geo/ds4geo/blob/master/WS%202020%20Course%20Notes/Session%208.ipynb\" target=\"_parent\"><img src=\"https://colab.research.google.com/assets/colab-badge.svg\" alt=\"Open In Colab\"/></a>"
      ]
    },
    {
      "cell_type": "markdown",
      "metadata": {
        "id": "F9xCmP03ngbO"
      },
      "source": [
        "Session 8"
      ]
    },
    {
      "cell_type": "markdown",
      "metadata": {
        "id": "U9E15PqlngRw"
      },
      "source": [
        "Unsupervised ML\n",
        "PCA, clustering"
      ]
    },
    {
      "cell_type": "markdown",
      "metadata": {
        "id": "N2pfGNVCSSIU"
      },
      "source": [
        "# Intro to ML"
      ]
    },
    {
      "cell_type": "markdown",
      "metadata": {
        "id": "BCxLZ--BSUHx"
      },
      "source": [
        "# Unsupervised ML\n",
        "* Dimensionality reduction\n",
        "* Clustering"
      ]
    },
    {
      "cell_type": "markdown",
      "metadata": {
        "id": "dDiIUc3QSmoJ"
      },
      "source": [
        "# Introduce dataset - XRF down-core\n",
        "\n",
        "inc. CLR"
      ]
    },
    {
      "cell_type": "code",
      "metadata": {
        "id": "sEc2thaWnetT"
      },
      "source": [
        ""
      ],
      "execution_count": null,
      "outputs": []
    },
    {
      "cell_type": "markdown",
      "metadata": {
        "id": "lzOjTjZ0S0_z"
      },
      "source": [
        "# EX 1\n",
        "* load\n",
        "* plot\n",
        "* clr\n",
        "* whiten\n",
        "\n",
        "\n",
        "include sklearn api approach"
      ]
    },
    {
      "cell_type": "code",
      "metadata": {
        "id": "tdxgDAyzS-QU"
      },
      "source": [
        ""
      ],
      "execution_count": null,
      "outputs": []
    },
    {
      "cell_type": "markdown",
      "metadata": {
        "id": "vMWqHvInS-uQ"
      },
      "source": [
        "# PCA lecture"
      ]
    },
    {
      "cell_type": "markdown",
      "metadata": {
        "id": "RHWS4cHSTD84"
      },
      "source": [
        "# EX2 PCA"
      ]
    },
    {
      "cell_type": "code",
      "metadata": {
        "id": "QWCk9dErTGP-"
      },
      "source": [
        ""
      ],
      "execution_count": null,
      "outputs": []
    },
    {
      "cell_type": "markdown",
      "metadata": {
        "id": "7-7slqc_TG3W"
      },
      "source": [
        "# Clustering lecture\n",
        "* detail on k-means\n",
        "* show example matrix and list of methods: https://scikit-learn.org/stable/modules/clustering.html#overview-of-clustering-methods"
      ]
    },
    {
      "cell_type": "markdown",
      "metadata": {
        "id": "bAmv2i-5Tn4L"
      },
      "source": [
        "#EX3 Clustering\n",
        "apply\n",
        "plot down-core\n",
        "interpret in terms of PCA in general"
      ]
    },
    {
      "cell_type": "markdown",
      "metadata": {
        "id": "KmMYbr3yTt4d"
      },
      "source": [
        "# If time, PCA on clusters?"
      ]
    }
  ]
}