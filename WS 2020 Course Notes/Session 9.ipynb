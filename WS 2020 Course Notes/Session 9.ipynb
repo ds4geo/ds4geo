{
  "nbformat": 4,
  "nbformat_minor": 0,
  "metadata": {
    "colab": {
      "name": "Session 9.ipynb",
      "provenance": [],
      "include_colab_link": true
    },
    "kernelspec": {
      "name": "python3",
      "display_name": "Python 3"
    }
  },
  "cells": [
    {
      "cell_type": "markdown",
      "metadata": {
        "id": "view-in-github",
        "colab_type": "text"
      },
      "source": [
        "<a href=\"https://colab.research.google.com/github/ds4geo/ds4geo/blob/master/WS%202020%20Course%20Notes/Session%209.ipynb\" target=\"_parent\"><img src=\"https://colab.research.google.com/assets/colab-badge.svg\" alt=\"Open In Colab\"/></a>"
      ]
    },
    {
      "cell_type": "markdown",
      "metadata": {
        "id": "0mAVyPptn_q0"
      },
      "source": [
        "Session 9"
      ]
    },
    {
      "cell_type": "markdown",
      "metadata": {
        "id": "7cnjZYqwn_g6"
      },
      "source": [
        "Supervised ML and Deep learning"
      ]
    },
    {
      "cell_type": "markdown",
      "metadata": {
        "id": "O7OECHvUzOrW"
      },
      "source": [
        "# Introduction to Supervised Machine Learning\n",
        "* Learning classification or regression from data with labels\n",
        "* aim to learn general rules which can be applied on other data\n",
        "* many algorithms are black boxes - the \"rules\" are difficult or impossible to know or understand\n",
        "\n",
        "* examples\n",
        "\n",
        "youtube CGP grey"
      ]
    },
    {
      "cell_type": "markdown",
      "metadata": {
        "id": "3In9XSx41fCa"
      },
      "source": [
        "# Introduction to rock geochem database\n",
        "\n",
        "* Can we use ML to predict the rock types based on the bulk chemistry?"
      ]
    },
    {
      "cell_type": "markdown",
      "metadata": {
        "id": "MWDUJRNd5Mk6"
      },
      "source": [
        "# Excercise - load and analyse rock geochem data\n",
        "\n",
        "* load data\n",
        "* some simple viz\n",
        "* PCA of data"
      ]
    },
    {
      "cell_type": "markdown",
      "metadata": {
        "id": "DcYDfAQR1fdA"
      },
      "source": [
        "# Machine Learning Algorithms: Random Forest\n",
        "* explain decision tree\n",
        "* under vs over fitting\n",
        "* random forest as solution to over-fitting\n",
        "* explain how it works\n",
        " * forest/ensemble of imperfect trees better at generalising"
      ]
    },
    {
      "cell_type": "code",
      "metadata": {
        "id": "pvD4Qwi_n9vf"
      },
      "source": [
        ""
      ],
      "execution_count": null,
      "outputs": []
    }
  ]
}