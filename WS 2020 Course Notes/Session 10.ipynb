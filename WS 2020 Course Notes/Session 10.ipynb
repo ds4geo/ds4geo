{
  "nbformat": 4,
  "nbformat_minor": 0,
  "metadata": {
    "colab": {
      "name": "Session 10.ipynb",
      "provenance": [],
      "authorship_tag": "ABX9TyMwnZxAddU+EugPa0WCzxjA",
      "include_colab_link": true
    },
    "kernelspec": {
      "name": "python3",
      "display_name": "Python 3"
    }
  },
  "cells": [
    {
      "cell_type": "markdown",
      "metadata": {
        "id": "view-in-github",
        "colab_type": "text"
      },
      "source": [
        "<a href=\"https://colab.research.google.com/github/ds4geo/ds4geo/blob/master/WS%202020%20Course%20Notes/Session%2010.ipynb\" target=\"_parent\"><img src=\"https://colab.research.google.com/assets/colab-badge.svg\" alt=\"Open In Colab\"/></a>"
      ]
    },
    {
      "cell_type": "markdown",
      "metadata": {
        "id": "bddO_Fy1oYFx"
      },
      "source": [
        "Session 10\n",
        "\n",
        "Show typical github workflow if locally with git bash, but do simple example with github/colab"
      ]
    },
    {
      "cell_type": "markdown",
      "metadata": {
        "id": "sOZUC1B9oX71"
      },
      "source": [
        "Scientific computing and collaboration\n",
        "\n",
        "http://yo-yehudi.com/2020/09/14/on-preparing-your-code-for-publication.html"
      ]
    },
    {
      "cell_type": "code",
      "metadata": {
        "id": "33nXppFCu4Cp"
      },
      "source": [
        ""
      ],
      "execution_count": null,
      "outputs": []
    },
    {
      "cell_type": "code",
      "metadata": {
        "id": "6BCFVXEXgHEI"
      },
      "source": [
        "model = K.Sequential(\n",
        "    [K.layers.Dense(64, activation=\"relu\", name=\"layer1\", kernel_initializer='glorot_uniform'),\n",
        "     K.layers.Dense(64, activation=\"relu\", name=\"layer2\", kernel_initializer='glorot_uniform'),\n",
        "     K.layers.Dense(64, activation=\"relu\", name=\"layer3\", kernel_initializer='glorot_uniform'),\n",
        "     K.layers.Dense(14, activation=\"softmax\", name=\"layerout\", kernel_initializer='glorot_uniform')\n",
        "    ])\n",
        "opt = K.optimizers.Adam(learning_rate=0.001)\n",
        "model.compile(optimizer=opt, loss=K.losses.SparseCategoricalCrossentropy(from_logits=False), metrics=\"accuracy\")\n"
      ],
      "execution_count": null,
      "outputs": []
    },
    {
      "cell_type": "code",
      "metadata": {
        "id": "3o9QDNnqgHnY"
      },
      "source": [
        "model.fit(xt, yt, epochs=200, batch_size=600, validation_data=(xv,yv))"
      ],
      "execution_count": null,
      "outputs": []
    },
    {
      "cell_type": "markdown",
      "metadata": {
        "id": "xFLGHPWuF793"
      },
      "source": [
        "#Git vs GitHub\n",
        "\n",
        "* Git is the version control system itself. Branches are the core principle.\n",
        "\n",
        "* Other version control systems exist.\n",
        "\n",
        "* GitHub is a cloud based hosting service for Git repositories. The cloud based hosting allows easy collaboration via Git between different collaborators via the internet.\n",
        "\n",
        "* Other hosting services like GitHub exist - e.g. bitbucket\n",
        "\n",
        "* Experience with Git and GitHub is highly valued in industry."
      ]
    },
    {
      "cell_type": "markdown",
      "metadata": {
        "id": "nFZ81OBkz4gs"
      },
      "source": [
        "# Git for code collaboration - branches and pull requests\n",
        "For the assignements we've simply all been commiting new changes to the repository directly to the \"main\" or \"master\" branch.\n",
        "This doesn't cause problems as we all work on different files, and there are not interdependencies between the code in the repository.\n",
        "\n",
        "However, imagine multiple people want to work on one file, or that the repository contains multiple dependent code files (modules) which might break if changed.\n",
        "To enable efficient and safe collaboration on code, the git system (as implement in github) has a system of branches and pull requests:\n",
        "\n",
        ".... explain ...\n",
        "## Branches\n",
        "* Branches are copies of a repository which can be independently edited/ developed.\n",
        "* The \"base\"/default branch is called \"main\" (formerly \"master).\n",
        "* Branches can be made at any time and branched off from any existing branch.\n",
        "\n",
        "\n",
        "## Merges and Pull Requests\n"
      ]
    }
  ]
}