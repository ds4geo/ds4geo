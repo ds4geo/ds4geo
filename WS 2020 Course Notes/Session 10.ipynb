{
  "nbformat": 4,
  "nbformat_minor": 0,
  "metadata": {
    "colab": {
      "name": "Session 10.ipynb",
      "provenance": [],
      "authorship_tag": "ABX9TyM06g8gEte0v3B9JEVyJr2+",
      "include_colab_link": true
    },
    "kernelspec": {
      "name": "python3",
      "display_name": "Python 3"
    }
  },
  "cells": [
    {
      "cell_type": "markdown",
      "metadata": {
        "id": "view-in-github",
        "colab_type": "text"
      },
      "source": [
        "<a href=\"https://colab.research.google.com/github/ds4geo/ds4geo/blob/master/WS%202020%20Course%20Notes/Session%2010.ipynb\" target=\"_parent\"><img src=\"https://colab.research.google.com/assets/colab-badge.svg\" alt=\"Open In Colab\"/></a>"
      ]
    },
    {
      "cell_type": "markdown",
      "metadata": {
        "id": "bddO_Fy1oYFx"
      },
      "source": [
        "Session 10\n",
        "\n",
        "Show typical github workflow if locally with git bash, but do simple example with github/colab"
      ]
    },
    {
      "cell_type": "markdown",
      "metadata": {
        "id": "sOZUC1B9oX71"
      },
      "source": [
        "Scientific computing and collaboration\n",
        "\n",
        "http://yo-yehudi.com/2020/09/14/on-preparing-your-code-for-publication.html"
      ]
    },
    {
      "cell_type": "code",
      "metadata": {
        "id": "33nXppFCu4Cp"
      },
      "source": [
        ""
      ],
      "execution_count": null,
      "outputs": []
    },
    {
      "cell_type": "code",
      "metadata": {
        "id": "6BCFVXEXgHEI"
      },
      "source": [
        "model = K.Sequential(\n",
        "    [K.layers.Dense(64, activation=\"relu\", name=\"layer1\", kernel_initializer='glorot_uniform'),\n",
        "     K.layers.Dense(64, activation=\"relu\", name=\"layer2\", kernel_initializer='glorot_uniform'),\n",
        "     K.layers.Dense(64, activation=\"relu\", name=\"layer3\", kernel_initializer='glorot_uniform'),\n",
        "     K.layers.Dense(14, activation=\"softmax\", name=\"layerout\", kernel_initializer='glorot_uniform')\n",
        "    ])\n",
        "opt = K.optimizers.Adam(learning_rate=0.001)\n",
        "model.compile(optimizer=opt, loss=K.losses.SparseCategoricalCrossentropy(from_logits=False), metrics=\"accuracy\")\n"
      ],
      "execution_count": null,
      "outputs": []
    },
    {
      "cell_type": "code",
      "metadata": {
        "id": "3o9QDNnqgHnY"
      },
      "source": [
        "model.fit(xt, yt, epochs=200, batch_size=600, validation_data=(xv,yv))"
      ],
      "execution_count": null,
      "outputs": []
    },
    {
      "cell_type": "markdown",
      "metadata": {
        "id": "xFLGHPWuF793"
      },
      "source": [
        "#Git vs GitHub\n",
        "\n",
        "* Git is the version control system itself. Branches are the core principle.\n",
        "\n",
        "* Git can be run locally on a machine, and can integrate with hosting services (see below). \n",
        "\n",
        "* Other version control systems exist.\n",
        "\n",
        "* GitHub is a cloud based hosting service for Git repositories. The cloud based hosting allows easy collaboration via Git between different collaborators via the internet.\n",
        "\n",
        "* Other hosting services like GitHub exist - e.g. bitbucket\n",
        "\n",
        "* Experience with Git and GitHub is highly valued in industry.\n",
        "\n",
        "See also:\n",
        "https://blog.devmountain.com/git-vs-github-whats-the-difference"
      ]
    },
    {
      "cell_type": "markdown",
      "metadata": {
        "id": "nFZ81OBkz4gs"
      },
      "source": [
        "# Git for code collaboration - branches and pull requests\n",
        "For the assignements we've simply all been commiting new changes to the repository directly to the \"main\" or \"master\" branch.\n",
        "This doesn't cause problems as we all work on different files, and there are not interdependencies between the code in the repository.\n",
        "\n",
        "However, imagine multiple people want to work on one file, or that the repository contains multiple dependent code files (modules) which might break if changed.\n",
        "To enable efficient and safe collaboration on code, the git system (as implement in github) has a system of **branches**, **merges** and **pull requests**.\n",
        "\n",
        "It is possible to use Git individually without branches, but branches and merging help to structure developments and make code testing easier (e.g. does my new development work before I merge it back into the main branch?). Pull requests are mainly valuable for collaboration between \n",
        "\n",
        "First the theory, then we will do a practical example.\n",
        "\n",
        "## Branches\n",
        "* Branches are copies of a repository which can be independently edited/ developed.\n",
        "* The \"base\"/default branch is called \"main\" (formerly \"master).\n",
        "* Branches can be made at any time and branched off from any existing branch.\n",
        "* Branches can be valuable both for individual and group development:\n",
        " * for individual development: to organise code development topics/activities\n",
        " * to permit efficient code contributions from multiple users - see below\n",
        "* Typical uses:\n",
        " * branch for a new feature\n",
        " * branch to fix a bug\n",
        "\n",
        "See also:\n",
        "\n",
        "https://www.atlassian.com/git/tutorials/using-branches\n",
        "\n",
        "## Merges\n",
        "* Merges join separate branches back together.\n",
        "* They have a source and a target, e.g. merging a source *development* branch back into the target *main* branch.\n",
        "* Can be done automatically in some situations: e.g. branched *dev* from *main*, edited *dev*, merge *dev* back to *main* without having edited *main*.\n",
        "* If different history of commits/edits since branching, merging may lead to conflicts which must be resolved before merging.\n",
        "\n",
        "See also:\n",
        "\n",
        "https://www.atlassian.com/git/tutorials/using-branches/git-merge\n",
        "\n",
        "## Pull Requests\n",
        "* When development on a branch is complete (and tested!), a pull request can be made.\n",
        "* It is a request to \"pull\" (i.e. merge) the development branch back into the main branch.\n",
        "* It allows the merge to be reviewed and approved before being performed.\n",
        "* Allows contribution of code while maintaining quality via peer review or repository owner approval.\n",
        "\n",
        "See also:\n",
        "\n",
        "https://www.atlassian.com/git/tutorials/making-a-pull-request\n",
        "\n"
      ]
    },
    {
      "cell_type": "markdown",
      "metadata": {
        "id": "3nQPn4kuMHIh"
      },
      "source": [
        "# GitHub Git excercise: branch, pull request, merge\n"
      ]
    },
    {
      "cell_type": "markdown",
      "metadata": {
        "id": "OD8kaycuMSyr"
      },
      "source": [
        "# Overview of local Git usage\n",
        "Git is variously integrated with different code editors/development environments, and depends on having git locally installed. We therefore will not do an interactive excercise, but the following overview of a simple workflow will be useful as a basis.\n",
        "\n",
        "These commands can be executed in Git Bash, or the command line if Git is installed properly.\n",
        "\n",
        "## Clone a repository\n",
        "Make a local copy of a repository which you can then work on. Navigate to a file location "
      ]
    },
    {
      "cell_type": "code",
      "metadata": {
        "id": "LuoDkATuNTxd"
      },
      "source": [
        "!"
      ],
      "execution_count": null,
      "outputs": []
    }
  ]
}