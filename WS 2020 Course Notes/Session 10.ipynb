{
  "nbformat": 4,
  "nbformat_minor": 0,
  "metadata": {
    "colab": {
      "name": "Session 10.ipynb",
      "provenance": [],
      "toc_visible": true,
      "authorship_tag": "ABX9TyPe9rIKIvH5IGQvi6oBkAIP",
      "include_colab_link": true
    },
    "kernelspec": {
      "name": "python3",
      "display_name": "Python 3"
    }
  },
  "cells": [
    {
      "cell_type": "markdown",
      "metadata": {
        "id": "view-in-github",
        "colab_type": "text"
      },
      "source": [
        "<a href=\"https://colab.research.google.com/github/ds4geo/ds4geo/blob/master/WS%202020%20Course%20Notes/Session%2010.ipynb\" target=\"_parent\"><img src=\"https://colab.research.google.com/assets/colab-badge.svg\" alt=\"Open In Colab\"/></a>"
      ]
    },
    {
      "cell_type": "markdown",
      "metadata": {
        "id": "bddO_Fy1oYFx"
      },
      "source": [
        "Session 10\n",
        "\n",
        "Show typical github workflow if locally with git bash, but do simple example with github/colab"
      ]
    },
    {
      "cell_type": "markdown",
      "metadata": {
        "id": "kR-cWhF-Y-9e"
      },
      "source": [
        "# **Data Science for Geoscientists - Winter Semester 2020**\n",
        "# **Session 9 - Scientific code collaboration & Deep learning - 9th December 2020**\n",
        "\n",
        "This week we will cover some general tips for creating content (e.g. figures and code) for scientific publication, go into detail about how to use git/github to collaborate and share code, and explain the basics of the common deep learning library Tensorflow/Keras."
      ]
    },
    {
      "cell_type": "markdown",
      "metadata": {
        "id": "XqE6-__GsTL4"
      },
      "source": [
        "# 10.1 - Creating figures for scientific publication\n",
        "\n",
        "**Plotting library advice:**\n",
        "* Seaborn for data exploration\n",
        "* Plotly/Bokeh/Altair for interactive plots\n",
        "* Matplotlib for static plots for print\n",
        "\n",
        "**Other advice:**\n",
        "* Create high quality vector graphics with:\n",
        "\n",
        " `plt.savefig(\"filename.pdf\", dpi=300)`\n",
        "\n",
        "* For reproducibility, especially if sharing your code, do as much as possible directly in python/Matplotlib (i.e. not with graphics editor)\n",
        "\n",
        "See:\n",
        "* https://towardsdatascience.com/an-introduction-to-making-scientific-publication-plots-with-python-ea19dfa7f51e\n",
        "* \n"
      ]
    },
    {
      "cell_type": "markdown",
      "metadata": {
        "id": "RThoE7uBspFY"
      },
      "source": [
        "# 10.2 - Sharing and publishing your code\n",
        "\n",
        "**General**\n",
        "* Openly share code: reproducibility, long term impact/core of science!\n",
        "* GitHub is standard place to share code\n",
        "  * Create repo for a project/paper\n",
        "  * Make a good readme!\n",
        "  * Make it as easy as possible for someone to press a few buttons to reproduce your work\n",
        "   * e.g. clone repository and run a script/notebook\n",
        " * Archive your data, e.g. pangeae.de\n",
        " * Good github repos of your scientific work are very valuable in applying for data science jobs!\n",
        "\n",
        "**Code**\n",
        "* Try to make code clear, readable and well commented\n",
        "* Split code into different modules (python files) as necessary\n",
        " *  e.g. can define functions separately and import them into notebook, see: \n",
        " https://stackoverflow.com/questions/52681405/how-can-i-import-custom-modules-from-a-github-repository-in-google-colab\n",
        "* Repository code should work when repository is cloned (not just in colab)\n",
        "* Include testing scripts as appropriate\n",
        "* Consider following code style guidelines, e.g. https://www.python.org/dev/peps/pep-0008/\n",
        "\n",
        "See example repo:\n",
        "https://github.com/oscarbranson/latools\n",
        "\n",
        "See also:\n",
        "\n",
        "http://yo-yehudi.com/2020/09/14/on-preparing-your-code-for-publication.html"
      ]
    },
    {
      "cell_type": "code",
      "metadata": {
        "id": "33nXppFCu4Cp"
      },
      "source": [
        ""
      ],
      "execution_count": null,
      "outputs": []
    },
    {
      "cell_type": "markdown",
      "metadata": {
        "id": "nEplukcx-5KJ"
      },
      "source": [
        "# 10.3 Code Collaboration using Git"
      ]
    },
    {
      "cell_type": "markdown",
      "metadata": {
        "id": "xFLGHPWuF793"
      },
      "source": [
        "## Git vs GitHub\n",
        "\n",
        "* Git is the version control system itself. Branches are the core principle.\n",
        "\n",
        "* Git can be run locally on a machine, and can integrate with hosting services (see below). \n",
        "\n",
        "* Other version control systems exist.\n",
        "\n",
        "* GitHub is a cloud based hosting service for Git repositories. The cloud based hosting allows easy collaboration via Git between different collaborators via the internet.\n",
        "\n",
        "* Other hosting services like GitHub exist - e.g. bitbucket\n",
        "\n",
        "* Experience with Git and GitHub is highly valued in industry.\n",
        "\n",
        "See also:\n",
        "https://blog.devmountain.com/git-vs-github-whats-the-difference"
      ]
    },
    {
      "cell_type": "markdown",
      "metadata": {
        "id": "nFZ81OBkz4gs"
      },
      "source": [
        "## Git for code collaboration - branches and pull requests\n",
        "For the assignements we've simply all been commiting new changes to the repository directly to the \"main\" or \"master\" branch.\n",
        "This doesn't cause problems as we all work on different files, and there are not interdependencies between the code in the repository.\n",
        "\n",
        "However, imagine multiple people want to work on one file, or that the repository contains multiple dependent code files (modules) which might break if changed.\n",
        "To enable efficient and safe collaboration on code, the git system (as implement in github) has a system of **branches**, **merges** and **pull requests**.\n",
        "\n",
        "It is possible to use Git individually without branches, but branches and merging help to structure developments and make code testing easier (e.g. does my new development work before I merge it back into the main branch?). Pull requests are mainly valuable for collaboration between \n",
        "\n",
        "First the theory, then we will do a practical example.\n",
        "\n",
        "## Branches\n",
        "* Branches are copies of a repository which can be independently edited/ developed.\n",
        "* The \"base\"/default branch is called \"main\" (formerly \"master).\n",
        "* Branches can be made at any time and branched off from any existing branch.\n",
        "* Branches can be valuable both for individual and group development:\n",
        " * for individual development: to organise code development topics/activities\n",
        " * to permit efficient code contributions from multiple users - see below\n",
        "* Typical uses:\n",
        " * branch for a new feature\n",
        " * branch to fix a bug\n",
        "\n",
        "See also:\n",
        "\n",
        "https://www.atlassian.com/git/tutorials/using-branches\n",
        "\n",
        "## Merges\n",
        "* Merges join separate branches back together.\n",
        "* They have a source and a target, e.g. merging a source *development* branch back into the target *main* branch.\n",
        "* Can be done automatically in some situations: e.g. branched *dev* from *main*, edited *dev*, merge *dev* back to *main* without having edited *main*.\n",
        "* If different history of commits/edits since branching, merging may lead to conflicts which must be resolved before merging.\n",
        "\n",
        "See also:\n",
        "\n",
        "https://www.atlassian.com/git/tutorials/using-branches/git-merge\n",
        "\n",
        "## Pull Requests\n",
        "* When development on a branch is complete (and tested!), a pull request can be made.\n",
        "* It is a request to \"pull\" (i.e. merge) the development branch back into the main branch.\n",
        "* It allows the merge to be reviewed and approved before being performed.\n",
        "* Allows contribution of code while maintaining quality via peer review or repository owner approval.\n",
        "\n",
        "See also:\n",
        "\n",
        "https://www.atlassian.com/git/tutorials/making-a-pull-request\n",
        "\n"
      ]
    },
    {
      "cell_type": "markdown",
      "metadata": {
        "id": "3nQPn4kuMHIh"
      },
      "source": [
        "## GitHub Git excercise: branch, pull request, merge\n",
        "\n",
        "We will together make seme edits to a simple repository to demonstrate how branches and pull requests work.\n",
        "\n",
        "Please open this repository:\n",
        "https://github.com/ds4geo/ds4geo_ws2020_git\n"
      ]
    },
    {
      "cell_type": "markdown",
      "metadata": {
        "id": "OD8kaycuMSyr"
      },
      "source": [
        "## Overview of local machine Git usage\n",
        "Git is variously integrated with different code editors/development environments, and depends on having git locally installed. We therefore will not do an interactive excercise, but the following overview of a simple workflow will be useful as a basis.\n",
        "\n",
        "These commands can be executed in Git Bash, or the command line if Git is installed properly. It is also possible to do this using the google colab virtual machines for the sake of this demonstration (not optimal for development as you loose the machine if it goes idle).\n"
      ]
    },
    {
      "cell_type": "markdown",
      "metadata": {
        "id": "IHac8FzaRUBd"
      },
      "source": [
        "### Clone a repository\n",
        "Make a local copy of a repository which you can then work on.bold text"
      ]
    },
    {
      "cell_type": "code",
      "metadata": {
        "id": "YnAQNsLKQU4U"
      },
      "source": [
        "# navigation commands (in linux)\n",
        "# !cd .. # up one directory level\n",
        "!ls # list contents of current directory"
      ],
      "execution_count": null,
      "outputs": []
    },
    {
      "cell_type": "code",
      "metadata": {
        "id": "LuoDkATuNTxd"
      },
      "source": [
        "# Clone the repository into the current directory\n",
        "!git clone https://github.com/ds4geo/ds4geo_ws2020_git.git"
      ],
      "execution_count": null,
      "outputs": []
    },
    {
      "cell_type": "code",
      "metadata": {
        "id": "_0eipMrD1mEp"
      },
      "source": [
        "# Change directory into the repo\n",
        "# Usually:\n",
        "# !cd ds4geo_ws2020_git\n",
        "# But due to a quirk in how colab works:\n",
        "%cd ds4geo_ws2020_git"
      ],
      "execution_count": null,
      "outputs": []
    },
    {
      "cell_type": "markdown",
      "metadata": {
        "id": "nciciU3HRXMj"
      },
      "source": [
        "### Check branches and create a new branch\n",
        "\n"
      ]
    },
    {
      "cell_type": "code",
      "metadata": {
        "id": "jjZs2prtQOse"
      },
      "source": [
        "# See existing branches\n",
        "!git branch"
      ],
      "execution_count": null,
      "outputs": []
    },
    {
      "cell_type": "code",
      "metadata": {
        "id": "ydUicpnS3nrT"
      },
      "source": [
        "# Create a new branch\n",
        "!git branch dev"
      ],
      "execution_count": null,
      "outputs": []
    },
    {
      "cell_type": "code",
      "metadata": {
        "id": "1tb6WTlH35PV"
      },
      "source": [
        "# See the new branch in the branches list\n",
        "!git branch"
      ],
      "execution_count": null,
      "outputs": []
    },
    {
      "cell_type": "code",
      "metadata": {
        "id": "2DBl90zq39Ac"
      },
      "source": [
        "# Switch to the new branch\n",
        "!git checkout dev"
      ],
      "execution_count": null,
      "outputs": []
    },
    {
      "cell_type": "markdown",
      "metadata": {
        "id": "YAHErOQi9RXD"
      },
      "source": [
        "### Do some coding and commit changes"
      ]
    },
    {
      "cell_type": "code",
      "metadata": {
        "id": "ppW6Hvxq4Azw"
      },
      "source": [
        "# Do some coding/editing\n",
        "!touch new.py # just create a new blank python script"
      ],
      "execution_count": null,
      "outputs": []
    },
    {
      "cell_type": "code",
      "metadata": {
        "id": "yHMaCmnL9DgD"
      },
      "source": [
        "# Check it is in the local repository\n",
        "!ls"
      ],
      "execution_count": null,
      "outputs": []
    },
    {
      "cell_type": "code",
      "metadata": {
        "id": "ujUWWaeu9Lap"
      },
      "source": [
        "# Tell git to scan the repository for your changes\n",
        "!git add ."
      ],
      "execution_count": null,
      "outputs": []
    },
    {
      "cell_type": "code",
      "metadata": {
        "id": "tNlZNZxq9beL"
      },
      "source": [
        "# Commit the new changes to your local repository\n",
        "!git commit -m \"added new.py\"\n",
        "# Note: this won't work unless git is properly set up - it isn't on colab"
      ],
      "execution_count": null,
      "outputs": []
    },
    {
      "cell_type": "code",
      "metadata": {
        "id": "s6t4xMVF3gu6"
      },
      "source": [
        "# Push your local commits back to the remote (i.e. cloud - github or bitbucket) repository\n",
        "!git push"
      ],
      "execution_count": null,
      "outputs": []
    },
    {
      "cell_type": "code",
      "metadata": {
        "id": "JAPTTLHj3iIq"
      },
      "source": [
        "# If you need to update your local repository with new changes from the remote one\n",
        "# Like re-cloning except doesn't overwrite commits you've made\n",
        "!git pull"
      ],
      "execution_count": null,
      "outputs": []
    },
    {
      "cell_type": "markdown",
      "metadata": {
        "id": "e4H0_5YY_l8z"
      },
      "source": [
        "# Deep Learning with Tensorflow/Keras\n",
        "\n",
        "* Tensorflow:\n",
        " * Deep learning framework/library developed by Google\n",
        " * Exploits GPU for performance\n",
        " * Handles all the underlying maths\n",
        " * Dominant in industry (in research pytorch is more common)\n",
        "* Keras:\n",
        " * Started as easier way to make tensorflow models\n",
        " * Now integrated in Tensorflow\n",
        " * Straightforward by powerful for model building\n",
        "\n",
        " Together they are much more powerful than e.g. sklearn, and underpin most real-world deep learning applications.\n",
        "\n"
      ]
    },
    {
      "cell_type": "markdown",
      "metadata": {
        "id": "DlYgrcpferfG"
      },
      "source": [
        "## Image Classification Example - Walkthrough\n",
        "\n",
        "We will walk through a simple image classification Convolutional Neural Network example from here:\n",
        "https://colab.research.google.com/github/tensorflow/docs/blob/master/site/en/tutorials/images/cnn.ipynb\n",
        "\n",
        "Main page: https://www.tensorflow.org/tutorials/images/cnn\n",
        "\n",
        "\n",
        "**Super short overview of Convolutional Neural Networks:**\n",
        "\n",
        "![](https://missinglink.ai/wp-content/uploads/2019/07/A-Convolutional-Neural-Network.png)\n",
        "\n"
      ]
    },
    {
      "cell_type": "code",
      "metadata": {
        "id": "F6ktYWdsYPoK"
      },
      "source": [
        "# Confusion matrix code to add to above notebook:\n",
        "res = model.predict(test_images)\n",
        "resx = np.argmax(res,axis=1)"
      ],
      "execution_count": null,
      "outputs": []
    },
    {
      "cell_type": "code",
      "metadata": {
        "id": "ZkWtnxyBYpSm"
      },
      "source": [
        "cmat = confusion_matrix(test_labels, resx, normalize=\"true\")\n",
        "\n",
        "fig, ax = plt.subplots(figsize=(12,12))\n",
        "ConfusionMatrixDisplay(cmat, display_labels=class_names).plot(cmap=\"BuGn\", ax=ax)"
      ],
      "execution_count": null,
      "outputs": []
    },
    {
      "cell_type": "markdown",
      "metadata": {
        "id": "JTSGybGVeYOO"
      },
      "source": [
        "## Recreating Sklearn MLP for rock classification\n",
        "The MLP Classifier in sklearn handles a lot of the details automatically, but is therefore not very flexible. The following code re-creates the sklearn model we used last week using Keras. "
      ]
    },
    {
      "cell_type": "code",
      "metadata": {
        "id": "6BCFVXEXgHEI"
      },
      "source": [
        "# Create a linear sequential model (a single stack of layers)\n",
        "model = K.Sequential(\n",
        "    # Add the individual layers - Dense = fully connected layers\n",
        "    [K.layers.Dense(64, activation=\"relu\", name=\"layer1\", kernel_initializer='glorot_uniform'),\n",
        "     K.layers.Dense(64, activation=\"relu\", name=\"layer2\", kernel_initializer='glorot_uniform'),\n",
        "     K.layers.Dense(64, activation=\"relu\", name=\"layer3\", kernel_initializer='glorot_uniform'),\n",
        "     # Last layer has softmax activation = needed for unique classification task\n",
        "     # Size of last layer is number of classes in the data\n",
        "     K.layers.Dense(14, activation=\"softmax\", name=\"layerout\", kernel_initializer='glorot_uniform')\n",
        "    ])\n",
        "# Use the Adam optimiser (method for model learning), and the initial learning rate\n",
        "opt = K.optimizers.Adam(learning_rate=0.001)\n",
        "# If data is categorical but not \"one-hot encoded\", use this loss \n",
        "# You can also specific which metrics to use to evaluate the model during training\n",
        "model.compile(optimizer=opt, loss=K.losses.SparseCategoricalCrossentropy(), metrics=\"accuracy\")\n"
      ],
      "execution_count": null,
      "outputs": []
    },
    {
      "cell_type": "code",
      "metadata": {
        "id": "3o9QDNnqgHnY"
      },
      "source": [
        "model.fit(xt, yt, epochs=200, batch_size=600, validation_data=(xv,yv))"
      ],
      "execution_count": null,
      "outputs": []
    },
    {
      "cell_type": "markdown",
      "metadata": {
        "id": "__R_q5GbjTdo"
      },
      "source": [
        "# Main Project\n",
        "\n",
        "**Task**\n",
        "* Create a repo associated with your own GitHub account\n",
        " * If possible make the repo public\n",
        " * If the repo is private, please invite ds4geo to it\n",
        "* Create a Jupyter Notebook with your analysis\n",
        " * Your repository can include other files as necessary\n",
        " * Include a readme file with an outline of your project\n",
        " * All data should be included in the repository or be downloadable within the notebook\n",
        " * You can make more than one notebook if it makes sense to do so\n",
        "* The analysis should be well described and structured, like in the weather data assignments, but greater focus is put on the analysis itself.\n",
        "\n",
        "**Content and Topic**\n",
        "* The topic is open - it does not have to be geoscience related\n",
        "* The project should include machine learning, or an equivalent detailed analysis (by agreement)\n",
        "\n",
        "\n",
        "**Feedback**\n",
        "* I am available by email to discuss and confirm ideas for the project.\n",
        "* Please consult me early to make sure your idea is along the right lines and is likely to be successful\n",
        "\n",
        "\n",
        "\n",
        "**Submission**\n",
        "* Your assignments are submitted by commiting them to your repo\n",
        "* The **deadline** is 23:59 on 10th Feb 2021\n",
        "* This assignment comprises 75% of the assessment for the course.* Marks are awarded first for the analysis of the data and visualisation of results, and second for the structure and communication of the analysis/story as a whole\n",
        "\n"
      ]
    }
  ]
}