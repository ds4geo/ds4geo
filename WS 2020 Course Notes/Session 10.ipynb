{
  "nbformat": 4,
  "nbformat_minor": 0,
  "metadata": {
    "colab": {
      "name": "Session 10.ipynb",
      "provenance": [],
      "toc_visible": true,
      "authorship_tag": "ABX9TyMzGDla4vw0SfgWAij+6D+n",
      "include_colab_link": true
    },
    "kernelspec": {
      "name": "python3",
      "display_name": "Python 3"
    }
  },
  "cells": [
    {
      "cell_type": "markdown",
      "metadata": {
        "id": "view-in-github",
        "colab_type": "text"
      },
      "source": [
        "<a href=\"https://colab.research.google.com/github/ds4geo/ds4geo/blob/master/WS%202020%20Course%20Notes/Session%2010.ipynb\" target=\"_parent\"><img src=\"https://colab.research.google.com/assets/colab-badge.svg\" alt=\"Open In Colab\"/></a>"
      ]
    },
    {
      "cell_type": "markdown",
      "metadata": {
        "id": "bddO_Fy1oYFx"
      },
      "source": [
        "Session 10\n",
        "\n",
        "Show typical github workflow if locally with git bash, but do simple example with github/colab"
      ]
    },
    {
      "cell_type": "markdown",
      "metadata": {
        "id": "sOZUC1B9oX71"
      },
      "source": [
        "Scientific computing and collaboration\n",
        "\n",
        "http://yo-yehudi.com/2020/09/14/on-preparing-your-code-for-publication.html"
      ]
    },
    {
      "cell_type": "code",
      "metadata": {
        "id": "33nXppFCu4Cp"
      },
      "source": [
        ""
      ],
      "execution_count": null,
      "outputs": []
    },
    {
      "cell_type": "code",
      "metadata": {
        "id": "6BCFVXEXgHEI"
      },
      "source": [
        "model = K.Sequential(\n",
        "    [K.layers.Dense(64, activation=\"relu\", name=\"layer1\", kernel_initializer='glorot_uniform'),\n",
        "     K.layers.Dense(64, activation=\"relu\", name=\"layer2\", kernel_initializer='glorot_uniform'),\n",
        "     K.layers.Dense(64, activation=\"relu\", name=\"layer3\", kernel_initializer='glorot_uniform'),\n",
        "     K.layers.Dense(14, activation=\"softmax\", name=\"layerout\", kernel_initializer='glorot_uniform')\n",
        "    ])\n",
        "opt = K.optimizers.Adam(learning_rate=0.001)\n",
        "model.compile(optimizer=opt, loss=K.losses.SparseCategoricalCrossentropy(from_logits=False), metrics=\"accuracy\")\n"
      ],
      "execution_count": null,
      "outputs": []
    },
    {
      "cell_type": "code",
      "metadata": {
        "id": "3o9QDNnqgHnY"
      },
      "source": [
        "model.fit(xt, yt, epochs=200, batch_size=600, validation_data=(xv,yv))"
      ],
      "execution_count": null,
      "outputs": []
    },
    {
      "cell_type": "markdown",
      "metadata": {
        "id": "xFLGHPWuF793"
      },
      "source": [
        "#Git vs GitHub\n",
        "\n",
        "* Git is the version control system itself. Branches are the core principle.\n",
        "\n",
        "* Git can be run locally on a machine, and can integrate with hosting services (see below). \n",
        "\n",
        "* Other version control systems exist.\n",
        "\n",
        "* GitHub is a cloud based hosting service for Git repositories. The cloud based hosting allows easy collaboration via Git between different collaborators via the internet.\n",
        "\n",
        "* Other hosting services like GitHub exist - e.g. bitbucket\n",
        "\n",
        "* Experience with Git and GitHub is highly valued in industry.\n",
        "\n",
        "See also:\n",
        "https://blog.devmountain.com/git-vs-github-whats-the-difference"
      ]
    },
    {
      "cell_type": "markdown",
      "metadata": {
        "id": "nFZ81OBkz4gs"
      },
      "source": [
        "# Git for code collaboration - branches and pull requests\n",
        "For the assignements we've simply all been commiting new changes to the repository directly to the \"main\" or \"master\" branch.\n",
        "This doesn't cause problems as we all work on different files, and there are not interdependencies between the code in the repository.\n",
        "\n",
        "However, imagine multiple people want to work on one file, or that the repository contains multiple dependent code files (modules) which might break if changed.\n",
        "To enable efficient and safe collaboration on code, the git system (as implement in github) has a system of **branches**, **merges** and **pull requests**.\n",
        "\n",
        "It is possible to use Git individually without branches, but branches and merging help to structure developments and make code testing easier (e.g. does my new development work before I merge it back into the main branch?). Pull requests are mainly valuable for collaboration between \n",
        "\n",
        "First the theory, then we will do a practical example.\n",
        "\n",
        "## Branches\n",
        "* Branches are copies of a repository which can be independently edited/ developed.\n",
        "* The \"base\"/default branch is called \"main\" (formerly \"master).\n",
        "* Branches can be made at any time and branched off from any existing branch.\n",
        "* Branches can be valuable both for individual and group development:\n",
        " * for individual development: to organise code development topics/activities\n",
        " * to permit efficient code contributions from multiple users - see below\n",
        "* Typical uses:\n",
        " * branch for a new feature\n",
        " * branch to fix a bug\n",
        "\n",
        "See also:\n",
        "\n",
        "https://www.atlassian.com/git/tutorials/using-branches\n",
        "\n",
        "## Merges\n",
        "* Merges join separate branches back together.\n",
        "* They have a source and a target, e.g. merging a source *development* branch back into the target *main* branch.\n",
        "* Can be done automatically in some situations: e.g. branched *dev* from *main*, edited *dev*, merge *dev* back to *main* without having edited *main*.\n",
        "* If different history of commits/edits since branching, merging may lead to conflicts which must be resolved before merging.\n",
        "\n",
        "See also:\n",
        "\n",
        "https://www.atlassian.com/git/tutorials/using-branches/git-merge\n",
        "\n",
        "## Pull Requests\n",
        "* When development on a branch is complete (and tested!), a pull request can be made.\n",
        "* It is a request to \"pull\" (i.e. merge) the development branch back into the main branch.\n",
        "* It allows the merge to be reviewed and approved before being performed.\n",
        "* Allows contribution of code while maintaining quality via peer review or repository owner approval.\n",
        "\n",
        "See also:\n",
        "\n",
        "https://www.atlassian.com/git/tutorials/making-a-pull-request\n",
        "\n"
      ]
    },
    {
      "cell_type": "markdown",
      "metadata": {
        "id": "3nQPn4kuMHIh"
      },
      "source": [
        "# GitHub Git excercise: branch, pull request, merge\n"
      ]
    },
    {
      "cell_type": "markdown",
      "metadata": {
        "id": "OD8kaycuMSyr"
      },
      "source": [
        "# Overview of local Git usage\n",
        "Git is variously integrated with different code editors/development environments, and depends on having git locally installed. We therefore will not do an interactive excercise, but the following overview of a simple workflow will be useful as a basis.\n",
        "\n",
        "These commands can be executed in Git Bash, or the command line if Git is installed properly. It is also possible to do this using the google colab virtual machines for the sake of this demonstration (not optimal for development as you loose the machine if it goes idle).\n"
      ]
    },
    {
      "cell_type": "markdown",
      "metadata": {
        "id": "IHac8FzaRUBd"
      },
      "source": [
        "## Clone a repository\n",
        "Make a local copy of a repository which you can then work on."
      ]
    },
    {
      "cell_type": "code",
      "metadata": {
        "colab": {
          "base_uri": "https://localhost:8080/"
        },
        "id": "YnAQNsLKQU4U",
        "outputId": "0c9c348f-12be-4a5c-bb14-cdbccfc4ea2a"
      },
      "source": [
        "# navigation commands (in linux)\n",
        "# !cd .. # up one directory level\n",
        "!ls # list contents of current directory"
      ],
      "execution_count": 1,
      "outputs": [
        {
          "output_type": "stream",
          "text": [
            "sample_data\n"
          ],
          "name": "stdout"
        }
      ]
    },
    {
      "cell_type": "code",
      "metadata": {
        "colab": {
          "base_uri": "https://localhost:8080/"
        },
        "id": "LuoDkATuNTxd",
        "outputId": "fa822373-43f8-40f1-ea07-f72abbeeb667"
      },
      "source": [
        "# Clone the repository into the current directory\n",
        "!git clone https://github.com/ds4geo/ds4geo_ws2020_git.git"
      ],
      "execution_count": 2,
      "outputs": [
        {
          "output_type": "stream",
          "text": [
            "Cloning into 'ds4geo_ws2020_git'...\n",
            "remote: Enumerating objects: 32, done.\u001b[K\n",
            "remote: Counting objects: 100% (32/32), done.\u001b[K\n",
            "remote: Compressing objects: 100% (32/32), done.\u001b[K\n",
            "remote: Total 32 (delta 12), reused 0 (delta 0), pack-reused 0\u001b[K\n",
            "Unpacking objects: 100% (32/32), done.\n"
          ],
          "name": "stdout"
        }
      ]
    },
    {
      "cell_type": "code",
      "metadata": {
        "id": "_0eipMrD1mEp",
        "outputId": "015de65c-dcff-4cb8-d29a-4e12ed63a519",
        "colab": {
          "base_uri": "https://localhost:8080/"
        }
      },
      "source": [
        "# Change directory into the repo\n",
        "# Usually:\n",
        "# !cd ds4geo_ws2020_git\n",
        "# But due to a quirk in how colab works:\n",
        "%cd ds4geo_ws2020_git"
      ],
      "execution_count": 21,
      "outputs": [
        {
          "output_type": "stream",
          "text": [
            "[Errno 2] No such file or directory: 'ds4geo_ws2020_git'\n",
            "/content/ds4geo_ws2020_git\n"
          ],
          "name": "stdout"
        }
      ]
    },
    {
      "cell_type": "markdown",
      "metadata": {
        "id": "nciciU3HRXMj"
      },
      "source": [
        "## Check branches and create a new branch\n",
        "\n"
      ]
    },
    {
      "cell_type": "code",
      "metadata": {
        "colab": {
          "base_uri": "https://localhost:8080/"
        },
        "id": "jjZs2prtQOse",
        "outputId": "56e8d7e6-ce4d-45ab-af0c-cd3f2db995ff"
      },
      "source": [
        "# See existing branches\n",
        "!git branch"
      ],
      "execution_count": 23,
      "outputs": [
        {
          "output_type": "stream",
          "text": [
            "* \u001b[32mmain\u001b[m\n"
          ],
          "name": "stdout"
        }
      ]
    },
    {
      "cell_type": "code",
      "metadata": {
        "id": "ydUicpnS3nrT"
      },
      "source": [
        "# Create a new branch\n",
        "!git branch dev"
      ],
      "execution_count": 26,
      "outputs": []
    },
    {
      "cell_type": "code",
      "metadata": {
        "id": "1tb6WTlH35PV",
        "outputId": "50cf0346-40f7-4c74-fddd-ed20f495f570",
        "colab": {
          "base_uri": "https://localhost:8080/"
        }
      },
      "source": [
        "# See the new branch in the branches list\n",
        "!git branch"
      ],
      "execution_count": 29,
      "outputs": [
        {
          "output_type": "stream",
          "text": [
            "* \u001b[32mdev\u001b[m\n",
            "  main\u001b[m\n"
          ],
          "name": "stdout"
        }
      ]
    },
    {
      "cell_type": "code",
      "metadata": {
        "id": "2DBl90zq39Ac",
        "outputId": "9633b7e0-500c-4ab1-c7ee-2744fe023cec",
        "colab": {
          "base_uri": "https://localhost:8080/"
        }
      },
      "source": [
        "# Switch to the new branch\n",
        "!git checkout dev"
      ],
      "execution_count": 28,
      "outputs": [
        {
          "output_type": "stream",
          "text": [
            "Switched to branch 'dev'\n"
          ],
          "name": "stdout"
        }
      ]
    },
    {
      "cell_type": "markdown",
      "metadata": {
        "id": "YAHErOQi9RXD"
      },
      "source": [
        "## Do some coding and commit changes"
      ]
    },
    {
      "cell_type": "code",
      "metadata": {
        "id": "ppW6Hvxq4Azw"
      },
      "source": [
        "# Do some coding/editing\n",
        "!touch new.py # just create a new blank python script"
      ],
      "execution_count": 30,
      "outputs": []
    },
    {
      "cell_type": "code",
      "metadata": {
        "id": "yHMaCmnL9DgD",
        "outputId": "12e7aa9d-3b05-40a9-a1fb-e53a1c6547dd",
        "colab": {
          "base_uri": "https://localhost:8080/"
        }
      },
      "source": [
        "# Check it is in the local repository\n",
        "!ls"
      ],
      "execution_count": 31,
      "outputs": [
        {
          "output_type": "stream",
          "text": [
            "new.py\tREADME.md  script.py\n"
          ],
          "name": "stdout"
        }
      ]
    },
    {
      "cell_type": "code",
      "metadata": {
        "id": "ujUWWaeu9Lap"
      },
      "source": [
        "# Tell git to scan the repository for your changes\n",
        "!git add ."
      ],
      "execution_count": 32,
      "outputs": []
    },
    {
      "cell_type": "code",
      "metadata": {
        "id": "tNlZNZxq9beL",
        "outputId": "4b6ceb33-4963-44d6-b58a-e51251be859e",
        "colab": {
          "base_uri": "https://localhost:8080/"
        }
      },
      "source": [
        "# Commit the new changes to your local repository\n",
        "!git commit -m \"added new.py\"\n",
        "# Note: this won't work unless git is properly set up - it isn't on colab"
      ],
      "execution_count": 33,
      "outputs": [
        {
          "output_type": "stream",
          "text": [
            "\n",
            "*** Please tell me who you are.\n",
            "\n",
            "Run\n",
            "\n",
            "  git config --global user.email \"you@example.com\"\n",
            "  git config --global user.name \"Your Name\"\n",
            "\n",
            "to set your account's default identity.\n",
            "Omit --global to set the identity only in this repository.\n",
            "\n",
            "fatal: unable to auto-detect email address (got 'root@02284674608b.(none)')\n"
          ],
          "name": "stdout"
        }
      ]
    },
    {
      "cell_type": "code",
      "metadata": {
        "id": "s6t4xMVF3gu6",
        "outputId": "cc4ef408-3ffe-4e9b-8ceb-ecfc4fecc498",
        "colab": {
          "base_uri": "https://localhost:8080/"
        }
      },
      "source": [
        "# Push your local commits back to the remote (i.e. cloud - github or bitbucket) repository\n",
        "!git push"
      ],
      "execution_count": 34,
      "outputs": [
        {
          "output_type": "stream",
          "text": [
            "fatal: The current branch dev has no upstream branch.\n",
            "To push the current branch and set the remote as upstream, use\n",
            "\n",
            "    git push --set-upstream origin dev\n",
            "\n"
          ],
          "name": "stdout"
        }
      ]
    },
    {
      "cell_type": "code",
      "metadata": {
        "id": "JAPTTLHj3iIq",
        "outputId": "0844b8e2-20ff-48be-cb09-77a36cc13342",
        "colab": {
          "base_uri": "https://localhost:8080/"
        }
      },
      "source": [
        "# If you need to update your local repository with new changes from the remote one\n",
        "# Like re-cloning except doesn't overwrite commits you've made\n",
        "!git pull"
      ],
      "execution_count": 35,
      "outputs": [
        {
          "output_type": "stream",
          "text": [
            "There is no tracking information for the current branch.\n",
            "Please specify which branch you want to merge with.\n",
            "See git-pull(1) for details.\n",
            "\n",
            "    git pull <remote> <branch>\n",
            "\n",
            "If you wish to set tracking information for this branch you can do so with:\n",
            "\n",
            "    git branch --set-upstream-to=origin/<branch> dev\n",
            "\n"
          ],
          "name": "stdout"
        }
      ]
    },
    {
      "cell_type": "code",
      "metadata": {
        "id": "s-PX6G6G1wot"
      },
      "source": [
        ""
      ],
      "execution_count": null,
      "outputs": []
    }
  ]
}