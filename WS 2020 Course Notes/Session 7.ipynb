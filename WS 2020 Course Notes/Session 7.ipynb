{
  "nbformat": 4,
  "nbformat_minor": 0,
  "metadata": {
    "colab": {
      "name": "Session 7.ipynb",
      "provenance": [],
      "toc_visible": true,
      "authorship_tag": "ABX9TyPjVoD80HKl5V4VZ0rALTpH",
      "include_colab_link": true
    },
    "kernelspec": {
      "name": "python3",
      "display_name": "Python 3"
    }
  },
  "cells": [
    {
      "cell_type": "markdown",
      "metadata": {
        "id": "view-in-github",
        "colab_type": "text"
      },
      "source": [
        "<a href=\"https://colab.research.google.com/github/ds4geo/ds4geo/blob/master/WS%202020%20Course%20Notes/Session%207.ipynb\" target=\"_parent\"><img src=\"https://colab.research.google.com/assets/colab-badge.svg\" alt=\"Open In Colab\"/></a>"
      ]
    },
    {
      "cell_type": "markdown",
      "metadata": {
        "id": "xX3ZVX-D9OG6"
      },
      "source": [
        "# **Data Science for Geoscientists - Winter Semester 2020**\n",
        "# **Session 7 - Data Exploration - 18th November 2020**"
      ]
    },
    {
      "cell_type": "markdown",
      "metadata": {
        "id": "1tfE_Geo9PGC"
      },
      "source": [
        "# Part 7.1 - Warm-up Excercise - *Workshop*\n",
        "Calculate the average value of the data in the following csv file:\n",
        "\n",
        "***link***\n"
      ]
    },
    {
      "cell_type": "markdown",
      "metadata": {
        "id": "vnZryHUc9e9i"
      },
      "source": [
        "# Part 7.2 - Weather Assignment Review - *Discussion*\n",
        "\n",
        "* General comments\n",
        "* specific example of plotting by year - mention group-by\n",
        "* Discussion about narative and story-telling\n",
        "* \"How do I do that?\""
      ]
    },
    {
      "cell_type": "markdown",
      "metadata": {
        "id": "p-czxvqz98n1"
      },
      "source": [
        "# Part 7.3 - Weather Assignment Part 2"
      ]
    },
    {
      "cell_type": "markdown",
      "metadata": {
        "id": "V2EhN_v9-AwA"
      },
      "source": [
        "# Part 7.4 - Interactive Data Exploration Excercise - *Discussion/Walkthrough*\n",
        "\n",
        "We will explore the HydroLakes (https://www.hydrosheds.org/pages/hydrolakes) dataset containing "
      ]
    },
    {
      "cell_type": "markdown",
      "metadata": {
        "id": "YSnRH-aQ70ym"
      },
      "source": [
        "1. averages warm-up excercise - 3-5 datasets\n",
        "2. Weather assignment review\n",
        "3. \"how do I do that\"?\n",
        "4. lake data colab walkthrough\n",
        " for advanced: \n",
        "\n",
        " * n legs\n",
        " * \n",
        "\n",
        " Data storytelling?"
      ]
    },
    {
      "cell_type": "code",
      "metadata": {
        "id": "AoOG87hn70YC"
      },
      "source": [
        "import pandas as pd\n",
        "import matplotlib.pyplot as plt\n",
        "import numpy as np\n",
        "import seaborn as sns"
      ],
      "execution_count": 34,
      "outputs": []
    },
    {
      "cell_type": "code",
      "metadata": {
        "id": "YYirgw02DeNP"
      },
      "source": [
        ""
      ],
      "execution_count": 34,
      "outputs": []
    },
    {
      "cell_type": "code",
      "metadata": {
        "id": "rUmO_ALd72OD",
        "outputId": "18e00293-2721-4c7a-8acb-bdf675440c87",
        "colab": {
          "base_uri": "https://localhost:8080/"
        }
      },
      "source": [
        "root = \"https://github.com/ds4geo/ds4geo/blob/master/data/geospatial/HydroLakes/HydroLAKES_points_v10_chunk{}.csv?raw=true\"\n",
        "\n",
        "dl = []\n",
        "for j in range(28+1):\n",
        "  tmp = pd.read_csv(root.format(j))\n",
        "  dl.append(tmp)\n"
      ],
      "execution_count": 35,
      "outputs": [
        {
          "output_type": "stream",
          "text": [
            "/usr/local/lib/python3.6/dist-packages/IPython/core/interactiveshell.py:2718: DtypeWarning: Columns (2) have mixed types.Specify dtype option on import or set low_memory=False.\n",
            "  interactivity=interactivity, compiler=compiler, result=result)\n"
          ],
          "name": "stderr"
        }
      ]
    },
    {
      "cell_type": "code",
      "metadata": {
        "id": "A3mDg9j28NmY"
      },
      "source": [
        "dat = pd.concat(dl)"
      ],
      "execution_count": 36,
      "outputs": []
    },
    {
      "cell_type": "code",
      "metadata": {
        "id": "fBRc1z_W8mTN",
        "outputId": "3b92d4e3-b0f5-42c4-e7d7-9b6e8a03d6b7",
        "colab": {
          "base_uri": "https://localhost:8080/"
        }
      },
      "source": [
        "dat.info()"
      ],
      "execution_count": 37,
      "outputs": [
        {
          "output_type": "stream",
          "text": [
            "<class 'pandas.core.frame.DataFrame'>\n",
            "Int64Index: 1427688 entries, 0 to 27687\n",
            "Data columns (total 24 columns):\n",
            " #   Column      Non-Null Count    Dtype  \n",
            "---  ------      --------------    -----  \n",
            " 0   Unnamed: 0  1427688 non-null  int64  \n",
            " 1   Hylak_id    1427688 non-null  int64  \n",
            " 2   Lake_name   3022 non-null     object \n",
            " 3   Country     1427688 non-null  object \n",
            " 4   Continent   1427688 non-null  object \n",
            " 5   Poly_src    1427688 non-null  object \n",
            " 6   Lake_type   1427688 non-null  int64  \n",
            " 7   Grand_id    1427688 non-null  int64  \n",
            " 8   Lake_area   1427688 non-null  float64\n",
            " 9   Shore_len   1427688 non-null  float64\n",
            " 10  Shore_dev   1427688 non-null  float64\n",
            " 11  Vol_total   1427688 non-null  float64\n",
            " 12  Vol_res     1427688 non-null  float64\n",
            " 13  Vol_src     1427688 non-null  int64  \n",
            " 14  Depth_avg   1427688 non-null  float64\n",
            " 15  Dis_avg     1427688 non-null  float64\n",
            " 16  Res_time    1427688 non-null  float64\n",
            " 17  Elevation   1427688 non-null  int64  \n",
            " 18  Slope_100   1427688 non-null  float64\n",
            " 19  Wshd_area   1427688 non-null  float64\n",
            " 20  Pour_long   1427688 non-null  float64\n",
            " 21  Pour_lat    1427688 non-null  float64\n",
            " 22  Cent_lat    1427688 non-null  float64\n",
            " 23  Cent_long   1427688 non-null  float64\n",
            "dtypes: float64(14), int64(6), object(4)\n",
            "memory usage: 272.3+ MB\n"
          ],
          "name": "stdout"
        }
      ]
    },
    {
      "cell_type": "code",
      "metadata": {
        "id": "r94Q2oOq8kbS",
        "outputId": "64abf5c9-ab42-4038-e623-d68ff7edf916",
        "colab": {
          "base_uri": "https://localhost:8080/",
          "height": 317
        }
      },
      "source": [
        "dat.describe()"
      ],
      "execution_count": 38,
      "outputs": [
        {
          "output_type": "execute_result",
          "data": {
            "text/html": [
              "<div>\n",
              "<style scoped>\n",
              "    .dataframe tbody tr th:only-of-type {\n",
              "        vertical-align: middle;\n",
              "    }\n",
              "\n",
              "    .dataframe tbody tr th {\n",
              "        vertical-align: top;\n",
              "    }\n",
              "\n",
              "    .dataframe thead th {\n",
              "        text-align: right;\n",
              "    }\n",
              "</style>\n",
              "<table border=\"1\" class=\"dataframe\">\n",
              "  <thead>\n",
              "    <tr style=\"text-align: right;\">\n",
              "      <th></th>\n",
              "      <th>Unnamed: 0</th>\n",
              "      <th>Hylak_id</th>\n",
              "      <th>Lake_type</th>\n",
              "      <th>Grand_id</th>\n",
              "      <th>Lake_area</th>\n",
              "      <th>Shore_len</th>\n",
              "      <th>Shore_dev</th>\n",
              "      <th>Vol_total</th>\n",
              "      <th>Vol_res</th>\n",
              "      <th>Vol_src</th>\n",
              "      <th>Depth_avg</th>\n",
              "      <th>Dis_avg</th>\n",
              "      <th>Res_time</th>\n",
              "      <th>Elevation</th>\n",
              "      <th>Slope_100</th>\n",
              "      <th>Wshd_area</th>\n",
              "      <th>Pour_long</th>\n",
              "      <th>Pour_lat</th>\n",
              "      <th>Cent_lat</th>\n",
              "      <th>Cent_long</th>\n",
              "    </tr>\n",
              "  </thead>\n",
              "  <tbody>\n",
              "    <tr>\n",
              "      <th>count</th>\n",
              "      <td>1.427688e+06</td>\n",
              "      <td>1.427688e+06</td>\n",
              "      <td>1.427688e+06</td>\n",
              "      <td>1.427688e+06</td>\n",
              "      <td>1.427688e+06</td>\n",
              "      <td>1.427688e+06</td>\n",
              "      <td>1.427688e+06</td>\n",
              "      <td>1.427688e+06</td>\n",
              "      <td>1.427688e+06</td>\n",
              "      <td>1.427688e+06</td>\n",
              "      <td>1.427688e+06</td>\n",
              "      <td>1.427688e+06</td>\n",
              "      <td>1.427688e+06</td>\n",
              "      <td>1.427688e+06</td>\n",
              "      <td>1.427688e+06</td>\n",
              "      <td>1.427688e+06</td>\n",
              "      <td>1.427688e+06</td>\n",
              "      <td>1.427688e+06</td>\n",
              "      <td>1.427688e+06</td>\n",
              "      <td>1.427688e+06</td>\n",
              "    </tr>\n",
              "    <tr>\n",
              "      <th>mean</th>\n",
              "      <td>7.138435e+05</td>\n",
              "      <td>7.138445e+05</td>\n",
              "      <td>1.004838e+00</td>\n",
              "      <td>1.619420e+01</td>\n",
              "      <td>2.049974e+00</td>\n",
              "      <td>5.366658e+00</td>\n",
              "      <td>1.712527e+00</td>\n",
              "      <td>1.315877e+02</td>\n",
              "      <td>4.196455e+00</td>\n",
              "      <td>2.994918e+00</td>\n",
              "      <td>3.890146e+00</td>\n",
              "      <td>2.230522e-01</td>\n",
              "      <td>1.790179e+03</td>\n",
              "      <td>2.776025e+02</td>\n",
              "      <td>2.900727e+00</td>\n",
              "      <td>6.682707e+02</td>\n",
              "      <td>-4.933745e+01</td>\n",
              "      <td>5.420002e+01</td>\n",
              "      <td>5.420002e+01</td>\n",
              "      <td>-4.933745e+01</td>\n",
              "    </tr>\n",
              "    <tr>\n",
              "      <th>std</th>\n",
              "      <td>4.121382e+05</td>\n",
              "      <td>4.121382e+05</td>\n",
              "      <td>7.048819e-02</td>\n",
              "      <td>2.705994e+02</td>\n",
              "      <td>3.451195e+02</td>\n",
              "      <td>3.917571e+01</td>\n",
              "      <td>7.399161e-01</td>\n",
              "      <td>6.952035e+04</td>\n",
              "      <td>4.314059e+02</td>\n",
              "      <td>7.367804e-02</td>\n",
              "      <td>4.022770e+00</td>\n",
              "      <td>4.819685e+02</td>\n",
              "      <td>1.505887e+04</td>\n",
              "      <td>3.960910e+02</td>\n",
              "      <td>3.169856e+00</td>\n",
              "      <td>2.126908e+04</td>\n",
              "      <td>8.334401e+01</td>\n",
              "      <td>2.144192e+01</td>\n",
              "      <td>2.144192e+01</td>\n",
              "      <td>8.334401e+01</td>\n",
              "    </tr>\n",
              "    <tr>\n",
              "      <th>min</th>\n",
              "      <td>0.000000e+00</td>\n",
              "      <td>1.000000e+00</td>\n",
              "      <td>1.000000e+00</td>\n",
              "      <td>0.000000e+00</td>\n",
              "      <td>1.000000e-01</td>\n",
              "      <td>1.120000e+00</td>\n",
              "      <td>1.010000e+00</td>\n",
              "      <td>5.000000e-02</td>\n",
              "      <td>0.000000e+00</td>\n",
              "      <td>1.000000e+00</td>\n",
              "      <td>1.000000e-01</td>\n",
              "      <td>-9.999000e+03</td>\n",
              "      <td>-9.999000e+03</td>\n",
              "      <td>-4.150000e+02</td>\n",
              "      <td>-1.000000e+00</td>\n",
              "      <td>-9.999000e+03</td>\n",
              "      <td>-1.799925e+02</td>\n",
              "      <td>-5.586088e+01</td>\n",
              "      <td>-5.586088e+01</td>\n",
              "      <td>-1.799925e+02</td>\n",
              "    </tr>\n",
              "    <tr>\n",
              "      <th>25%</th>\n",
              "      <td>3.569218e+05</td>\n",
              "      <td>3.569228e+05</td>\n",
              "      <td>1.000000e+00</td>\n",
              "      <td>0.000000e+00</td>\n",
              "      <td>1.400000e-01</td>\n",
              "      <td>1.930000e+00</td>\n",
              "      <td>1.270000e+00</td>\n",
              "      <td>4.100000e-01</td>\n",
              "      <td>0.000000e+00</td>\n",
              "      <td>3.000000e+00</td>\n",
              "      <td>2.300000e+00</td>\n",
              "      <td>5.000000e-03</td>\n",
              "      <td>9.010000e+01</td>\n",
              "      <td>6.500000e+01</td>\n",
              "      <td>1.040000e+00</td>\n",
              "      <td>8.000000e-01</td>\n",
              "      <td>-1.039688e+02</td>\n",
              "      <td>5.184728e+01</td>\n",
              "      <td>5.184728e+01</td>\n",
              "      <td>-1.039687e+02</td>\n",
              "    </tr>\n",
              "    <tr>\n",
              "      <th>50%</th>\n",
              "      <td>7.138435e+05</td>\n",
              "      <td>7.138445e+05</td>\n",
              "      <td>1.000000e+00</td>\n",
              "      <td>0.000000e+00</td>\n",
              "      <td>2.400000e-01</td>\n",
              "      <td>2.680000e+00</td>\n",
              "      <td>1.510000e+00</td>\n",
              "      <td>7.800000e-01</td>\n",
              "      <td>0.000000e+00</td>\n",
              "      <td>3.000000e+00</td>\n",
              "      <td>3.300000e+00</td>\n",
              "      <td>2.300000e-02</td>\n",
              "      <td>4.292000e+02</td>\n",
              "      <td>2.050000e+02</td>\n",
              "      <td>1.980000e+00</td>\n",
              "      <td>2.900000e+00</td>\n",
              "      <td>-7.781979e+01</td>\n",
              "      <td>5.999296e+01</td>\n",
              "      <td>5.999296e+01</td>\n",
              "      <td>-7.781979e+01</td>\n",
              "    </tr>\n",
              "    <tr>\n",
              "      <th>75%</th>\n",
              "      <td>1.070765e+06</td>\n",
              "      <td>1.070766e+06</td>\n",
              "      <td>1.000000e+00</td>\n",
              "      <td>0.000000e+00</td>\n",
              "      <td>5.100000e-01</td>\n",
              "      <td>4.380000e+00</td>\n",
              "      <td>1.910000e+00</td>\n",
              "      <td>1.900000e+00</td>\n",
              "      <td>0.000000e+00</td>\n",
              "      <td>3.000000e+00</td>\n",
              "      <td>4.500000e+00</td>\n",
              "      <td>1.390000e-01</td>\n",
              "      <td>1.588600e+03</td>\n",
              "      <td>3.760000e+02</td>\n",
              "      <td>3.600000e+00</td>\n",
              "      <td>1.640000e+01</td>\n",
              "      <td>8.579836e+00</td>\n",
              "      <td>6.621850e+01</td>\n",
              "      <td>6.621850e+01</td>\n",
              "      <td>8.579837e+00</td>\n",
              "    </tr>\n",
              "    <tr>\n",
              "      <th>max</th>\n",
              "      <td>1.427687e+06</td>\n",
              "      <td>1.427688e+06</td>\n",
              "      <td>3.000000e+00</td>\n",
              "      <td>6.824000e+03</td>\n",
              "      <td>3.770019e+05</td>\n",
              "      <td>1.582937e+04</td>\n",
              "      <td>5.351000e+01</td>\n",
              "      <td>7.560000e+07</td>\n",
              "      <td>2.048000e+05</td>\n",
              "      <td>3.000000e+00</td>\n",
              "      <td>7.387000e+02</td>\n",
              "      <td>1.618056e+05</td>\n",
              "      <td>1.320379e+07</td>\n",
              "      <td>5.813000e+03</td>\n",
              "      <td>5.559000e+01</td>\n",
              "      <td>4.323652e+06</td>\n",
              "      <td>1.799988e+02</td>\n",
              "      <td>8.357118e+01</td>\n",
              "      <td>8.357118e+01</td>\n",
              "      <td>1.799988e+02</td>\n",
              "    </tr>\n",
              "  </tbody>\n",
              "</table>\n",
              "</div>"
            ],
            "text/plain": [
              "         Unnamed: 0      Hylak_id  ...      Cent_lat     Cent_long\n",
              "count  1.427688e+06  1.427688e+06  ...  1.427688e+06  1.427688e+06\n",
              "mean   7.138435e+05  7.138445e+05  ...  5.420002e+01 -4.933745e+01\n",
              "std    4.121382e+05  4.121382e+05  ...  2.144192e+01  8.334401e+01\n",
              "min    0.000000e+00  1.000000e+00  ... -5.586088e+01 -1.799925e+02\n",
              "25%    3.569218e+05  3.569228e+05  ...  5.184728e+01 -1.039687e+02\n",
              "50%    7.138435e+05  7.138445e+05  ...  5.999296e+01 -7.781979e+01\n",
              "75%    1.070765e+06  1.070766e+06  ...  6.621850e+01  8.579837e+00\n",
              "max    1.427687e+06  1.427688e+06  ...  8.357118e+01  1.799988e+02\n",
              "\n",
              "[8 rows x 20 columns]"
            ]
          },
          "metadata": {
            "tags": []
          },
          "execution_count": 38
        }
      ]
    },
    {
      "cell_type": "code",
      "metadata": {
        "id": "HSuBY9Gg8dUd",
        "outputId": "aec86522-5321-4bd9-fd68-91ef55974325",
        "colab": {
          "base_uri": "https://localhost:8080/",
          "height": 583
        }
      },
      "source": [
        "dat.sort_values(\"Lake_area\", inplace=True, ascending=False)\n",
        "dat.head(10)"
      ],
      "execution_count": 39,
      "outputs": [
        {
          "output_type": "execute_result",
          "data": {
            "text/html": [
              "<div>\n",
              "<style scoped>\n",
              "    .dataframe tbody tr th:only-of-type {\n",
              "        vertical-align: middle;\n",
              "    }\n",
              "\n",
              "    .dataframe tbody tr th {\n",
              "        vertical-align: top;\n",
              "    }\n",
              "\n",
              "    .dataframe thead th {\n",
              "        text-align: right;\n",
              "    }\n",
              "</style>\n",
              "<table border=\"1\" class=\"dataframe\">\n",
              "  <thead>\n",
              "    <tr style=\"text-align: right;\">\n",
              "      <th></th>\n",
              "      <th>Unnamed: 0</th>\n",
              "      <th>Hylak_id</th>\n",
              "      <th>Lake_name</th>\n",
              "      <th>Country</th>\n",
              "      <th>Continent</th>\n",
              "      <th>Poly_src</th>\n",
              "      <th>Lake_type</th>\n",
              "      <th>Grand_id</th>\n",
              "      <th>Lake_area</th>\n",
              "      <th>Shore_len</th>\n",
              "      <th>Shore_dev</th>\n",
              "      <th>Vol_total</th>\n",
              "      <th>Vol_res</th>\n",
              "      <th>Vol_src</th>\n",
              "      <th>Depth_avg</th>\n",
              "      <th>Dis_avg</th>\n",
              "      <th>Res_time</th>\n",
              "      <th>Elevation</th>\n",
              "      <th>Slope_100</th>\n",
              "      <th>Wshd_area</th>\n",
              "      <th>Pour_long</th>\n",
              "      <th>Pour_lat</th>\n",
              "      <th>Cent_lat</th>\n",
              "      <th>Cent_long</th>\n",
              "    </tr>\n",
              "  </thead>\n",
              "  <tbody>\n",
              "    <tr>\n",
              "      <th>0</th>\n",
              "      <td>0</td>\n",
              "      <td>1</td>\n",
              "      <td>Caspian Sea</td>\n",
              "      <td>Russia</td>\n",
              "      <td>Europe</td>\n",
              "      <td>SWBD</td>\n",
              "      <td>1</td>\n",
              "      <td>0</td>\n",
              "      <td>377001.91</td>\n",
              "      <td>15829.37</td>\n",
              "      <td>7.27</td>\n",
              "      <td>75600000.0</td>\n",
              "      <td>0.0</td>\n",
              "      <td>1</td>\n",
              "      <td>200.5</td>\n",
              "      <td>8110.642</td>\n",
              "      <td>107883.0</td>\n",
              "      <td>-29</td>\n",
              "      <td>-1.0</td>\n",
              "      <td>1404108.0</td>\n",
              "      <td>47.717708</td>\n",
              "      <td>45.591934</td>\n",
              "      <td>45.591934</td>\n",
              "      <td>47.717708</td>\n",
              "    </tr>\n",
              "    <tr>\n",
              "      <th>4</th>\n",
              "      <td>4</td>\n",
              "      <td>5</td>\n",
              "      <td>Superior</td>\n",
              "      <td>United States of America</td>\n",
              "      <td>North America</td>\n",
              "      <td>SWBD</td>\n",
              "      <td>1</td>\n",
              "      <td>0</td>\n",
              "      <td>81843.92</td>\n",
              "      <td>5248.36</td>\n",
              "      <td>5.18</td>\n",
              "      <td>12004000.0</td>\n",
              "      <td>0.0</td>\n",
              "      <td>1</td>\n",
              "      <td>146.7</td>\n",
              "      <td>2869.953</td>\n",
              "      <td>48410.3</td>\n",
              "      <td>179</td>\n",
              "      <td>-1.0</td>\n",
              "      <td>209219.5</td>\n",
              "      <td>-84.460547</td>\n",
              "      <td>46.468593</td>\n",
              "      <td>46.468593</td>\n",
              "      <td>-84.460547</td>\n",
              "    </tr>\n",
              "    <tr>\n",
              "      <th>15</th>\n",
              "      <td>15</td>\n",
              "      <td>16</td>\n",
              "      <td>Victoria</td>\n",
              "      <td>Uganda</td>\n",
              "      <td>Africa</td>\n",
              "      <td>SWBD</td>\n",
              "      <td>3</td>\n",
              "      <td>4492</td>\n",
              "      <td>67166.22</td>\n",
              "      <td>7422.44</td>\n",
              "      <td>8.08</td>\n",
              "      <td>2760000.0</td>\n",
              "      <td>204800.0</td>\n",
              "      <td>1</td>\n",
              "      <td>41.1</td>\n",
              "      <td>1735.515</td>\n",
              "      <td>18406.3</td>\n",
              "      <td>1134</td>\n",
              "      <td>-1.0</td>\n",
              "      <td>265372.8</td>\n",
              "      <td>33.193791</td>\n",
              "      <td>0.430999</td>\n",
              "      <td>0.430999</td>\n",
              "      <td>33.193791</td>\n",
              "    </tr>\n",
              "    <tr>\n",
              "      <th>7</th>\n",
              "      <td>7</td>\n",
              "      <td>8</td>\n",
              "      <td>Huron</td>\n",
              "      <td>United States of America</td>\n",
              "      <td>North America</td>\n",
              "      <td>SWBD</td>\n",
              "      <td>1</td>\n",
              "      <td>0</td>\n",
              "      <td>59399.30</td>\n",
              "      <td>8856.64</td>\n",
              "      <td>10.25</td>\n",
              "      <td>3550000.0</td>\n",
              "      <td>0.0</td>\n",
              "      <td>1</td>\n",
              "      <td>59.8</td>\n",
              "      <td>9162.152</td>\n",
              "      <td>4484.5</td>\n",
              "      <td>175</td>\n",
              "      <td>-1.0</td>\n",
              "      <td>576017.7</td>\n",
              "      <td>-82.422576</td>\n",
              "      <td>42.999403</td>\n",
              "      <td>42.999403</td>\n",
              "      <td>-82.422576</td>\n",
              "    </tr>\n",
              "    <tr>\n",
              "      <th>5</th>\n",
              "      <td>5</td>\n",
              "      <td>6</td>\n",
              "      <td>Michigan</td>\n",
              "      <td>United States of America</td>\n",
              "      <td>North America</td>\n",
              "      <td>SWBD</td>\n",
              "      <td>1</td>\n",
              "      <td>0</td>\n",
              "      <td>57726.84</td>\n",
              "      <td>2862.67</td>\n",
              "      <td>3.36</td>\n",
              "      <td>4860000.0</td>\n",
              "      <td>0.0</td>\n",
              "      <td>1</td>\n",
              "      <td>84.2</td>\n",
              "      <td>1877.753</td>\n",
              "      <td>29956.0</td>\n",
              "      <td>175</td>\n",
              "      <td>-1.0</td>\n",
              "      <td>176006.4</td>\n",
              "      <td>-84.753910</td>\n",
              "      <td>45.822916</td>\n",
              "      <td>45.822916</td>\n",
              "      <td>-84.753910</td>\n",
              "    </tr>\n",
              "    <tr>\n",
              "      <th>16</th>\n",
              "      <td>16</td>\n",
              "      <td>17</td>\n",
              "      <td>Tanganyika</td>\n",
              "      <td>Democratic Republic of the Congo</td>\n",
              "      <td>Africa</td>\n",
              "      <td>SWBD</td>\n",
              "      <td>1</td>\n",
              "      <td>0</td>\n",
              "      <td>32826.65</td>\n",
              "      <td>2126.23</td>\n",
              "      <td>3.31</td>\n",
              "      <td>18940000.0</td>\n",
              "      <td>0.0</td>\n",
              "      <td>1</td>\n",
              "      <td>577.0</td>\n",
              "      <td>1490.748</td>\n",
              "      <td>147049.0</td>\n",
              "      <td>767</td>\n",
              "      <td>-1.0</td>\n",
              "      <td>239411.9</td>\n",
              "      <td>29.185417</td>\n",
              "      <td>-5.911180</td>\n",
              "      <td>-5.911180</td>\n",
              "      <td>29.185417</td>\n",
              "    </tr>\n",
              "    <tr>\n",
              "      <th>10</th>\n",
              "      <td>10</td>\n",
              "      <td>11</td>\n",
              "      <td>Baikal</td>\n",
              "      <td>Russia</td>\n",
              "      <td>Europe</td>\n",
              "      <td>SWBD</td>\n",
              "      <td>3</td>\n",
              "      <td>5058</td>\n",
              "      <td>31967.85</td>\n",
              "      <td>2688.05</td>\n",
              "      <td>4.24</td>\n",
              "      <td>23615000.0</td>\n",
              "      <td>46000.0</td>\n",
              "      <td>1</td>\n",
              "      <td>738.7</td>\n",
              "      <td>1997.895</td>\n",
              "      <td>136804.9</td>\n",
              "      <td>449</td>\n",
              "      <td>-1.0</td>\n",
              "      <td>569176.2</td>\n",
              "      <td>104.321875</td>\n",
              "      <td>52.234393</td>\n",
              "      <td>52.234393</td>\n",
              "      <td>104.321875</td>\n",
              "    </tr>\n",
              "    <tr>\n",
              "      <th>1</th>\n",
              "      <td>1</td>\n",
              "      <td>2</td>\n",
              "      <td>Great Bear</td>\n",
              "      <td>Canada</td>\n",
              "      <td>North America</td>\n",
              "      <td>CanVec</td>\n",
              "      <td>1</td>\n",
              "      <td>0</td>\n",
              "      <td>30450.64</td>\n",
              "      <td>5331.72</td>\n",
              "      <td>8.62</td>\n",
              "      <td>2200000.0</td>\n",
              "      <td>0.0</td>\n",
              "      <td>1</td>\n",
              "      <td>72.2</td>\n",
              "      <td>535.187</td>\n",
              "      <td>47577.7</td>\n",
              "      <td>145</td>\n",
              "      <td>-1.0</td>\n",
              "      <td>147665.4</td>\n",
              "      <td>-123.505546</td>\n",
              "      <td>65.138384</td>\n",
              "      <td>65.138384</td>\n",
              "      <td>-123.505546</td>\n",
              "    </tr>\n",
              "    <tr>\n",
              "      <th>17</th>\n",
              "      <td>17</td>\n",
              "      <td>18</td>\n",
              "      <td>Malawi</td>\n",
              "      <td>Malawi</td>\n",
              "      <td>Africa</td>\n",
              "      <td>SWBD</td>\n",
              "      <td>1</td>\n",
              "      <td>0</td>\n",
              "      <td>29544.00</td>\n",
              "      <td>1718.97</td>\n",
              "      <td>2.82</td>\n",
              "      <td>7720000.0</td>\n",
              "      <td>0.0</td>\n",
              "      <td>1</td>\n",
              "      <td>261.3</td>\n",
              "      <td>1119.676</td>\n",
              "      <td>79801.5</td>\n",
              "      <td>476</td>\n",
              "      <td>-1.0</td>\n",
              "      <td>128727.2</td>\n",
              "      <td>35.236458</td>\n",
              "      <td>-14.417702</td>\n",
              "      <td>-14.417702</td>\n",
              "      <td>35.236458</td>\n",
              "    </tr>\n",
              "    <tr>\n",
              "      <th>2</th>\n",
              "      <td>2</td>\n",
              "      <td>3</td>\n",
              "      <td>Great Slave</td>\n",
              "      <td>Canada</td>\n",
              "      <td>North America</td>\n",
              "      <td>CanVec</td>\n",
              "      <td>1</td>\n",
              "      <td>0</td>\n",
              "      <td>26734.29</td>\n",
              "      <td>9814.16</td>\n",
              "      <td>16.93</td>\n",
              "      <td>1580000.0</td>\n",
              "      <td>0.0</td>\n",
              "      <td>1</td>\n",
              "      <td>59.1</td>\n",
              "      <td>4350.692</td>\n",
              "      <td>4203.2</td>\n",
              "      <td>148</td>\n",
              "      <td>-1.0</td>\n",
              "      <td>995312.3</td>\n",
              "      <td>-117.617115</td>\n",
              "      <td>61.311727</td>\n",
              "      <td>61.311727</td>\n",
              "      <td>-117.617115</td>\n",
              "    </tr>\n",
              "  </tbody>\n",
              "</table>\n",
              "</div>"
            ],
            "text/plain": [
              "    Unnamed: 0  Hylak_id    Lake_name  ...   Pour_lat   Cent_lat   Cent_long\n",
              "0            0         1  Caspian Sea  ...  45.591934  45.591934   47.717708\n",
              "4            4         5     Superior  ...  46.468593  46.468593  -84.460547\n",
              "15          15        16     Victoria  ...   0.430999   0.430999   33.193791\n",
              "7            7         8        Huron  ...  42.999403  42.999403  -82.422576\n",
              "5            5         6     Michigan  ...  45.822916  45.822916  -84.753910\n",
              "16          16        17   Tanganyika  ...  -5.911180  -5.911180   29.185417\n",
              "10          10        11       Baikal  ...  52.234393  52.234393  104.321875\n",
              "1            1         2   Great Bear  ...  65.138384  65.138384 -123.505546\n",
              "17          17        18       Malawi  ... -14.417702 -14.417702   35.236458\n",
              "2            2         3  Great Slave  ...  61.311727  61.311727 -117.617115\n",
              "\n",
              "[10 rows x 24 columns]"
            ]
          },
          "metadata": {
            "tags": []
          },
          "execution_count": 39
        }
      ]
    },
    {
      "cell_type": "code",
      "metadata": {
        "id": "cIgB64Uw98vX",
        "outputId": "fcc11c3d-90c2-44a2-852a-75f941d5d200",
        "colab": {
          "base_uri": "https://localhost:8080/",
          "height": 501
        }
      },
      "source": [
        "# plot of top 25 lakes, area vs depth, with labels\n",
        "fig, ax = plt.subplots(figsize=(12,8))\n",
        "dat.head(25).plot.scatter(\"Lake_area\", \"Depth_avg\",ax=ax)\n",
        "\n",
        "ax.set_xscale(\"log\")\n",
        "ax.set_yscale(\"log\")\n",
        "ax.grid(which=\"both\")\n",
        "for i, lake in dat.head(25).iterrows():\n",
        "  ax.annotate(lake.Lake_name, (lake.Lake_area, lake.Depth_avg))"
      ],
      "execution_count": 40,
      "outputs": [
        {
          "output_type": "display_data",
          "data": {
            "image/png": "[encoded data removed]",
            "text/plain": [
              "<Figure size 864x576 with 1 Axes>"
            ]
          },
          "metadata": {
            "tags": [],
            "needs_background": "light"
          }
        }
      ]
    },
    {
      "cell_type": "code",
      "metadata": {
        "id": "ITC1909RCmsw",
        "outputId": "dc1ad22f-75ea-4896-c402-a5b9fcf6cee6",
        "colab": {
          "base_uri": "https://localhost:8080/"
        }
      },
      "source": [
        "dat.Lake_area.min()"
      ],
      "execution_count": 41,
      "outputs": [
        {
          "output_type": "execute_result",
          "data": {
            "text/plain": [
              "0.1"
            ]
          },
          "metadata": {
            "tags": []
          },
          "execution_count": 41
        }
      ]
    },
    {
      "cell_type": "code",
      "metadata": {
        "id": "PjxKYK29_wTW",
        "outputId": "b6e6dac1-47ea-4034-f3fa-631b2266a18a",
        "colab": {
          "base_uri": "https://localhost:8080/",
          "height": 483
        }
      },
      "source": [
        "fig, ax = plt.subplots(figsize=(12,8))\n",
        "dat.Lake_area.hist(ax=ax, bins=np.arange(0,100000,1000))\n",
        "ax.set_yscale(\"log\")\n"
      ],
      "execution_count": 42,
      "outputs": [
        {
          "output_type": "display_data",
          "data": {
            "image/png": "[encoded data removed]",
            "text/plain": [
              "<Figure size 864x576 with 1 Axes>"
            ]
          },
          "metadata": {
            "tags": [],
            "needs_background": "light"
          }
        }
      ]
    },
    {
      "cell_type": "code",
      "metadata": {
        "id": "mmqcOHCDDL_Y",
        "outputId": "b6adcbc9-d701-465d-9bbe-e53bc04859f2",
        "colab": {
          "base_uri": "https://localhost:8080/",
          "height": 282
        }
      },
      "source": [
        "dat.Cent_lat.hist(bins=20)\n"
      ],
      "execution_count": 43,
      "outputs": [
        {
          "output_type": "execute_result",
          "data": {
            "text/plain": [
              "<matplotlib.axes._subplots.AxesSubplot at 0x7f5328d4bb00>"
            ]
          },
          "metadata": {
            "tags": []
          },
          "execution_count": 43
        },
        {
          "output_type": "display_data",
          "data": {
            "image/png": "[encoded data removed]",
            "text/plain": [
              "<Figure size 432x288 with 1 Axes>"
            ]
          },
          "metadata": {
            "tags": [],
            "needs_background": "light"
          }
        }
      ]
    },
    {
      "cell_type": "code",
      "metadata": {
        "id": "lFoRIR_SDWri",
        "outputId": "faad6bde-a1b5-4df7-c987-b8bd7b35a3af",
        "colab": {
          "base_uri": "https://localhost:8080/",
          "height": 282
        }
      },
      "source": [
        "dat.Cent_long.hist(bins=20)"
      ],
      "execution_count": 44,
      "outputs": [
        {
          "output_type": "execute_result",
          "data": {
            "text/plain": [
              "<matplotlib.axes._subplots.AxesSubplot at 0x7f5315f82ac8>"
            ]
          },
          "metadata": {
            "tags": []
          },
          "execution_count": 44
        },
        {
          "output_type": "display_data",
          "data": {
            "image/png": "[encoded data removed]",
            "text/plain": [
              "<Figure size 432x288 with 1 Axes>"
            ]
          },
          "metadata": {
            "tags": [],
            "needs_background": "light"
          }
        }
      ]
    },
    {
      "cell_type": "code",
      "metadata": {
        "id": "ub063dDXDgra",
        "outputId": "8817dbcc-cc28-4da9-9a85-324d662cf18b",
        "colab": {
          "base_uri": "https://localhost:8080/",
          "height": 297
        }
      },
      "source": [
        "sns.histplot(data=dat.tail(len(dat)-100), x=\"Cent_long\", y=\"Cent_lat\", weights=\"Lake_area\", bins=120)"
      ],
      "execution_count": 51,
      "outputs": [
        {
          "output_type": "execute_result",
          "data": {
            "text/plain": [
              "<matplotlib.axes._subplots.AxesSubplot at 0x7f53299737f0>"
            ]
          },
          "metadata": {
            "tags": []
          },
          "execution_count": 51
        },
        {
          "output_type": "display_data",
          "data": {
            "image/png": "[encoded data removed]",
            "text/plain": [
              "<Figure size 432x288 with 1 Axes>"
            ]
          },
          "metadata": {
            "tags": [],
            "needs_background": "light"
          }
        }
      ]
    },
    {
      "cell_type": "markdown",
      "metadata": {
        "id": "wJIrlzl79Eei"
      },
      "source": [
        ""
      ]
    },
    {
      "cell_type": "markdown",
      "metadata": {
        "id": "li4pJQUSDM2g"
      },
      "source": [
        "# TODO"
      ]
    },
    {
      "cell_type": "code",
      "metadata": {
        "id": "B0Ni5OjwBxKS"
      },
      "source": [
        ""
      ],
      "execution_count": null,
      "outputs": []
    },
    {
      "cell_type": "markdown",
      "metadata": {
        "id": "Do_8_lVv88uX"
      },
      "source": [
        "# To Do\n",
        "\n",
        "* Student assignment submissions link.\n",
        "* Univariate stats mini-lecture & notes\n",
        "* Data story telling mini-lecture * notes\n",
        "* Lake workshop\n",
        "\n",
        "\n",
        "\n",
        "**Other**\n",
        "* include crosstab? more pandas - add columns, etc.?\n",
        "* Submission method\n",
        "* References\n",
        "\n",
        "\n",
        "* Create separate solutions notebook\n",
        "* Enable output cells\n",
        "* Final go-through and checks\n",
        "* Workshop timings"
      ]
    },
    {
      "cell_type": "markdown",
      "metadata": {
        "id": "pIsCL6JYm2bk"
      },
      "source": [
        "# **Data Science for Geoscientists - Winter Semester 2020**\n",
        "# **Session 5 - Data Story Telling - 4th November 2020**"
      ]
    },
    {
      "cell_type": "markdown",
      "metadata": {
        "id": "YEL0Cwnfm36b"
      },
      "source": [
        "Weather assignment discuss\n",
        "\n",
        "Simple stats, mean --> kde\n",
        "\n",
        "Data story telling\n",
        "\n",
        "How do I do that open workshop\n",
        "\n",
        "Assignment: weather 2"
      ]
    },
    {
      "cell_type": "markdown",
      "metadata": {
        "id": "qJE4U_5pPN0q"
      },
      "source": [
        "# Part 5.1 - Weather data assignment review - *Discussion*\n",
        "We will look at the assignment submissions and discuss the conclusions (what is the weather like in these cities?) and the effectiveness of the analysis, visualisations and story-telling."
      ]
    },
    {
      "cell_type": "code",
      "metadata": {
        "id": "pi1X-nHbmscW"
      },
      "source": [
        ""
      ],
      "execution_count": null,
      "outputs": []
    },
    {
      "cell_type": "markdown",
      "metadata": {
        "id": "8Aoo3WubaHwl"
      },
      "source": [
        "# Part 5.2 - Statistics: Describing data part 1 - *Workshop*\n",
        "It is useful to be able to describe datasets statistically to summarise their properties.\n",
        "\n",
        "You are provided with 4 small datasets each containing 2 variables (x and y). Describe the datasets by simple statistics (e.g. mean, range, linear regression/correlation coefficient - see if Scipy has a useful function).\n",
        "\n",
        "**Do not plot the data or closely inspect the individual data points** (we will do this later).\n",
        "\n",
        "On the basis of the statistics, comment on these datasets."
      ]
    },
    {
      "cell_type": "code",
      "metadata": {
        "id": "n-dijd5eajli"
      },
      "source": [
        "import pandas as pd\n",
        "from scipy import stats"
      ],
      "execution_count": null,
      "outputs": []
    },
    {
      "cell_type": "code",
      "metadata": {
        "id": "74VZmb-BastV",
        "outputId": "36f34ce2-61ee-40b8-b75d-f2302e26be4f",
        "colab": {
          "base_uri": "https://localhost:8080/",
          "height": 35
        }
      },
      "source": [
        "'''\n",
        "Load the data from here: \"/content/sample_data/anscombe.json\"\n",
        "format is json - find a pandas function to load it\n",
        "'''"
      ],
      "execution_count": null,
      "outputs": [
        {
          "output_type": "execute_result",
          "data": {
            "application/vnd.google.colaboratory.intrinsic+json": {
              "type": "string"
            },
            "text/plain": [
              "'\\nLoad the data from here: \"/content/sample_data/anscombe.json\"\\nformat is json - find a pandas function to load it\\n'"
            ]
          },
          "metadata": {
            "tags": []
          },
          "execution_count": 2
        }
      ]
    },
    {
      "cell_type": "code",
      "metadata": {
        "id": "VwZuGpzja-yf",
        "outputId": "ad3803c6-3da0-4cde-b1f2-fa8e4d7e037d",
        "colab": {
          "base_uri": "https://localhost:8080/",
          "height": 52
        }
      },
      "source": [
        "'''# The 4 datasets are in the same json file (and therefore loaded Pandas DataFrame)\n",
        "They can be distinguished by a column called \"Series\" with values: [\"I\", \"II\", \"III\", \"IV\"]\n",
        "In Pandas, you can select e.g. all the rows of Series I as follows:\n",
        "dat.loc[dat.Series==\"I\"]\n",
        "'''\n"
      ],
      "execution_count": null,
      "outputs": [
        {
          "output_type": "execute_result",
          "data": {
            "application/vnd.google.colaboratory.intrinsic+json": {
              "type": "string"
            },
            "text/plain": [
              "'# The 4 datasets are in the same json file (and therefore loaded Pandas DataFrame)\\nThey can be distinguished by a column called \"Series\" with values: [\"I\", \"II\", \"III\", \"IV\"]\\nIn Pandas, you can select e.g. all the rows of Series I as follows:\\ndat.loc[dat.Series==\"I\"]\\n'"
            ]
          },
          "metadata": {
            "tags": []
          },
          "execution_count": 3
        }
      ]
    },
    {
      "cell_type": "code",
      "metadata": {
        "id": "FLp0iobRdyjY",
        "outputId": "4f306eb2-d7c7-4804-e77a-2cd2193aac08",
        "colab": {
          "base_uri": "https://localhost:8080/",
          "height": 309
        }
      },
      "source": [
        "### ANSWERS\n",
        "import pandas as pd\n",
        "from scipy import stats\n",
        "dat = pd.read_json(\"/content/sample_data/anscombe.json\")\n",
        "# Select one of the datasets:\n",
        "series_names = [\"I\", \"II\", \"III\", \"IV\"]\n",
        "for n in series_names:\n",
        "  print(dat.loc[dat.Series==n].mean()) # same for std, max, min, etc.\n",
        "  sdat = dat.loc[dat.Series==n]\n",
        "  print(stats.linregress(sdat.X, sdat.Y))"
      ],
      "execution_count": null,
      "outputs": [
        {
          "output_type": "stream",
          "text": [
            "X    9.0\n",
            "Y    7.5\n",
            "dtype: float64\n",
            "LinregressResult(slope=0.5002727272727273, intercept=2.9975454545454543, rvalue=0.81618645422891, pvalue=0.0021813202598156855, stderr=0.11804977471937325)\n",
            "X    9.000000\n",
            "Y    7.500909\n",
            "dtype: float64\n",
            "LinregressResult(slope=0.5000000000000001, intercept=3.000909090909089, rvalue=0.816236506000243, pvalue=0.0021788162369107845, stderr=0.11796374596764074)\n",
            "X    9.0\n",
            "Y    7.5\n",
            "dtype: float64\n",
            "LinregressResult(slope=0.4997272727272729, intercept=3.002454545454544, rvalue=0.8162867394895984, pvalue=0.002176305279228015, stderr=0.11787766222100221)\n",
            "X    9.000000\n",
            "Y    7.500909\n",
            "dtype: float64\n",
            "LinregressResult(slope=0.4999090909090909, intercept=3.0017272727272726, rvalue=0.8165214368885028, pvalue=0.002164602347197222, stderr=0.11781894172968553)\n"
          ],
          "name": "stdout"
        }
      ]
    },
    {
      "cell_type": "markdown",
      "metadata": {
        "id": "6HJHklGQakDj"
      },
      "source": [
        "# Part 5.3 - Anscombe's Quartet - *Workshop/Discussion*\n",
        "First we discuss the conclusions of the previous excercise.\n",
        "\n",
        "Then plot each of the datasets. Do you have any additional comments/conclusions?\n",
        "\n",
        "You can read more about Anscombe's Quartet here:\n",
        "\n",
        "**DO NOT read this until you have completed the excercise!**\n",
        "\n",
        "https://en.wikipedia.org/wiki/Anscombe%27s_quartet\n"
      ]
    },
    {
      "cell_type": "code",
      "metadata": {
        "id": "nrsM9VIqfGoy"
      },
      "source": [
        ""
      ],
      "execution_count": null,
      "outputs": []
    },
    {
      "cell_type": "code",
      "metadata": {
        "id": "5LexIQ1QfFSR",
        "outputId": "98d7dd2c-8bc9-44f5-fe36-4cf9fd36f29e",
        "colab": {
          "base_uri": "https://localhost:8080/",
          "height": 1000
        }
      },
      "source": [
        "#### ANSWERs\n",
        "for n in series_names:\n",
        "  sdat = dat.loc[dat.Series==n]\n",
        "  sdat.plot.scatter(\"X\",\"Y\")"
      ],
      "execution_count": null,
      "outputs": [
        {
          "output_type": "display_data",
          "data": {
            "image/png": "[encoded data removed]",
            "text/plain": [
              "<Figure size 432x288 with 1 Axes>"
            ]
          },
          "metadata": {
            "tags": [],
            "needs_background": "light"
          }
        },
        {
          "output_type": "display_data",
          "data": {
            "image/png": "[encoded data removed]",
            "text/plain": [
              "<Figure size 432x288 with 1 Axes>"
            ]
          },
          "metadata": {
            "tags": [],
            "needs_background": "light"
          }
        },
        {
          "output_type": "display_data",
          "data": {
            "image/png": "[encoded data removed]",
            "text/plain": [
              "<Figure size 432x288 with 1 Axes>"
            ]
          },
          "metadata": {
            "tags": [],
            "needs_background": "light"
          }
        },
        {
          "output_type": "display_data",
          "data": {
            "image/png": "[encoded data removed]",
            "text/plain": [
              "<Figure size 432x288 with 1 Axes>"
            ]
          },
          "metadata": {
            "tags": [],
            "needs_background": "light"
          }
        }
      ]
    },
    {
      "cell_type": "markdown",
      "metadata": {
        "id": "PFP_GxspfvNR"
      },
      "source": [
        "#Part 5.4 - Univariate Statistics (briefly) - *Mini-lecture*\n"
      ]
    },
    {
      "cell_type": "markdown",
      "metadata": {
        "id": "4xwV5W3ffvK_"
      },
      "source": [
        "# Part 5.5 - Describing data part 2 - *Workshop*\n",
        "\n",
        "The Global Lakes and Wetlands Database (GLWD - https://www.worldwildlife.org/pages/global-lakes-and-wetlands-database) contains information on all lakes and reservoirs in the world with surface areas greater than 0.1 km2 (almost 250,000).\n",
        "The dataset is split into two parts:\n",
        "\n",
        "* Level 1 containing all lakes > 50 km2 in size with many attributes (area, elevation, location, geometry): https://github.com/ds4geo/ds4geo/blob/master/data/unordered/Global_Lakes_GLWD/glwd_1.csv (raw:https://raw.githubusercontent.com/ds4geo/ds4geo/master/data/unordered/Global_Lakes_GLWD/glwd_1.csv)\n",
        "* Level 2 containing all lakes >0.1 km2 (excluding those in level 1) with a limited set of attributes: https://github.com/ds4geo/ds4geo/blob/master/data/unordered/Global_Lakes_GLWD/glwd_2.csv (raw:https://raw.githubusercontent.com/ds4geo/ds4geo/master/data/unordered/Global_Lakes_GLWD/glwd_2.csv)\n",
        "\n",
        "Both original parts include polygon geometries, but these have been removed to reduce the file sizes.\n",
        "\n",
        "Explore both datasets individually and together, and analyse and visualise the patterns in the data."
      ]
    },
    {
      "cell_type": "code",
      "metadata": {
        "id": "wFo43RwPujaS"
      },
      "source": [
        "import pandas as pd"
      ],
      "execution_count": null,
      "outputs": []
    },
    {
      "cell_type": "code",
      "metadata": {
        "id": "G5p0q_OL-bg5"
      },
      "source": [
        "# ANSWERS\n",
        "glwd1 = pd.read_csv(\"https://raw.githubusercontent.com/ds4geo/ds4geo/master/data/unordered/Global_Lakes_GLWD/glwd_1.csv\")\n",
        "glwd2 = pd.read_csv(\"https://raw.githubusercontent.com/ds4geo/ds4geo/master/data/unordered/Global_Lakes_GLWD/glwd_2.csv\")"
      ],
      "execution_count": null,
      "outputs": []
    },
    {
      "cell_type": "code",
      "metadata": {
        "id": "HFNXY1Rr_Af_",
        "outputId": "5b5f2ca5-d5ae-4254-c51d-f7dec1612457",
        "colab": {
          "base_uri": "https://localhost:8080/",
          "height": 626
        }
      },
      "source": [
        "#ANSWERS\n",
        "glwd1"
      ],
      "execution_count": null,
      "outputs": [
        {
          "output_type": "execute_result",
          "data": {
            "text/html": [
              "<div>\n",
              "<style scoped>\n",
              "    .dataframe tbody tr th:only-of-type {\n",
              "        vertical-align: middle;\n",
              "    }\n",
              "\n",
              "    .dataframe tbody tr th {\n",
              "        vertical-align: top;\n",
              "    }\n",
              "\n",
              "    .dataframe thead th {\n",
              "        text-align: right;\n",
              "    }\n",
              "</style>\n",
              "<table border=\"1\" class=\"dataframe\">\n",
              "  <thead>\n",
              "    <tr style=\"text-align: right;\">\n",
              "      <th></th>\n",
              "      <th>GLWD_ID</th>\n",
              "      <th>TYPE</th>\n",
              "      <th>LAKE_NAME</th>\n",
              "      <th>DAM_NAME</th>\n",
              "      <th>POLY_SRC</th>\n",
              "      <th>AREA_SKM</th>\n",
              "      <th>PERIM_KM</th>\n",
              "      <th>LONG_DEG</th>\n",
              "      <th>LAT_DEG</th>\n",
              "      <th>ELEV_M</th>\n",
              "      <th>CATCH_TSKM</th>\n",
              "      <th>INFLOW_CMS</th>\n",
              "      <th>VOLUME_CKM</th>\n",
              "      <th>VOL_SRC</th>\n",
              "      <th>COUNTRY</th>\n",
              "      <th>SEC_CNTRY</th>\n",
              "      <th>RIVER</th>\n",
              "      <th>NEAR_CITY</th>\n",
              "      <th>MGLD_TYPE</th>\n",
              "      <th>MGLD_AREA</th>\n",
              "      <th>LRS_AREA</th>\n",
              "      <th>LRS_AR_SRC</th>\n",
              "      <th>LRS_CATCH</th>\n",
              "      <th>DAM_HEIGHT</th>\n",
              "      <th>DAM_YEAR</th>\n",
              "      <th>USE_1</th>\n",
              "      <th>USE_2</th>\n",
              "      <th>USE_3</th>\n",
              "    </tr>\n",
              "  </thead>\n",
              "  <tbody>\n",
              "    <tr>\n",
              "      <th>0</th>\n",
              "      <td>1</td>\n",
              "      <td>Lake</td>\n",
              "      <td>Caspian Sea</td>\n",
              "      <td>NaN</td>\n",
              "      <td>ArcWorld</td>\n",
              "      <td>378119.3</td>\n",
              "      <td>6820.3</td>\n",
              "      <td>50.36</td>\n",
              "      <td>41.85</td>\n",
              "      <td>-22</td>\n",
              "      <td>3174.0</td>\n",
              "      <td>8644.8</td>\n",
              "      <td>NaN</td>\n",
              "      <td>NaN</td>\n",
              "      <td>Kazakhstan</td>\n",
              "      <td>+4: Russia, Turkmenistan, Azerbaijan, Iran</td>\n",
              "      <td>NaN</td>\n",
              "      <td>NaN</td>\n",
              "      <td>closedx</td>\n",
              "      <td>380000.0</td>\n",
              "      <td>NaN</td>\n",
              "      <td>NaN</td>\n",
              "      <td>NaN</td>\n",
              "      <td>NaN</td>\n",
              "      <td>NaN</td>\n",
              "      <td>NaN</td>\n",
              "      <td>NaN</td>\n",
              "      <td>NaN</td>\n",
              "    </tr>\n",
              "    <tr>\n",
              "      <th>1</th>\n",
              "      <td>2</td>\n",
              "      <td>Lake</td>\n",
              "      <td>Lake Superior</td>\n",
              "      <td>NaN</td>\n",
              "      <td>ArcWorld</td>\n",
              "      <td>81935.7</td>\n",
              "      <td>3469.6</td>\n",
              "      <td>-88.23</td>\n",
              "      <td>47.72</td>\n",
              "      <td>184</td>\n",
              "      <td>203.2</td>\n",
              "      <td>2115.8</td>\n",
              "      <td>NaN</td>\n",
              "      <td>NaN</td>\n",
              "      <td>Canada</td>\n",
              "      <td>United States</td>\n",
              "      <td>NaN</td>\n",
              "      <td>NaN</td>\n",
              "      <td>open</td>\n",
              "      <td>82000.0</td>\n",
              "      <td>NaN</td>\n",
              "      <td>NaN</td>\n",
              "      <td>NaN</td>\n",
              "      <td>NaN</td>\n",
              "      <td>NaN</td>\n",
              "      <td>NaN</td>\n",
              "      <td>NaN</td>\n",
              "      <td>NaN</td>\n",
              "    </tr>\n",
              "    <tr>\n",
              "      <th>2</th>\n",
              "      <td>3</td>\n",
              "      <td>Lake</td>\n",
              "      <td>Lake Victoria</td>\n",
              "      <td>Owen Falls (Lake Victoria)</td>\n",
              "      <td>DCW</td>\n",
              "      <td>67075.2</td>\n",
              "      <td>6041.4</td>\n",
              "      <td>33.23</td>\n",
              "      <td>-1.30</td>\n",
              "      <td>1140</td>\n",
              "      <td>257.9</td>\n",
              "      <td>1201.7</td>\n",
              "      <td>204.80</td>\n",
              "      <td>LRs</td>\n",
              "      <td>Tanzania</td>\n",
              "      <td>+2: Uganda, Kenya</td>\n",
              "      <td>Nile</td>\n",
              "      <td>Jinta</td>\n",
              "      <td>open</td>\n",
              "      <td>68800.0</td>\n",
              "      <td>69000.0</td>\n",
              "      <td>Other</td>\n",
              "      <td>0.0</td>\n",
              "      <td>31.0</td>\n",
              "      <td>1954.0</td>\n",
              "      <td>i</td>\n",
              "      <td>h</td>\n",
              "      <td>NaN</td>\n",
              "    </tr>\n",
              "    <tr>\n",
              "      <th>3</th>\n",
              "      <td>4</td>\n",
              "      <td>Lake</td>\n",
              "      <td>Aral Sea</td>\n",
              "      <td>NaN</td>\n",
              "      <td>ArcWorld</td>\n",
              "      <td>65966.8</td>\n",
              "      <td>3580.4</td>\n",
              "      <td>60.08</td>\n",
              "      <td>45.13</td>\n",
              "      <td>42</td>\n",
              "      <td>255.5</td>\n",
              "      <td>27.4</td>\n",
              "      <td>NaN</td>\n",
              "      <td>NaN</td>\n",
              "      <td>Kazakhstan</td>\n",
              "      <td>Uzbekistan</td>\n",
              "      <td>NaN</td>\n",
              "      <td>NaN</td>\n",
              "      <td>closedx</td>\n",
              "      <td>40000.0</td>\n",
              "      <td>NaN</td>\n",
              "      <td>NaN</td>\n",
              "      <td>NaN</td>\n",
              "      <td>NaN</td>\n",
              "      <td>NaN</td>\n",
              "      <td>NaN</td>\n",
              "      <td>NaN</td>\n",
              "      <td>NaN</td>\n",
              "    </tr>\n",
              "    <tr>\n",
              "      <th>4</th>\n",
              "      <td>5</td>\n",
              "      <td>Lake</td>\n",
              "      <td>Lake Huron</td>\n",
              "      <td>NaN</td>\n",
              "      <td>ArcWorld</td>\n",
              "      <td>59756.5</td>\n",
              "      <td>3943.9</td>\n",
              "      <td>-82.21</td>\n",
              "      <td>44.78</td>\n",
              "      <td>176</td>\n",
              "      <td>486.8</td>\n",
              "      <td>4069.9</td>\n",
              "      <td>NaN</td>\n",
              "      <td>NaN</td>\n",
              "      <td>Canada</td>\n",
              "      <td>United States</td>\n",
              "      <td>NaN</td>\n",
              "      <td>NaN</td>\n",
              "      <td>open</td>\n",
              "      <td>59500.0</td>\n",
              "      <td>NaN</td>\n",
              "      <td>NaN</td>\n",
              "      <td>NaN</td>\n",
              "      <td>NaN</td>\n",
              "      <td>NaN</td>\n",
              "      <td>NaN</td>\n",
              "      <td>NaN</td>\n",
              "      <td>NaN</td>\n",
              "    </tr>\n",
              "    <tr>\n",
              "      <th>...</th>\n",
              "      <td>...</td>\n",
              "      <td>...</td>\n",
              "      <td>...</td>\n",
              "      <td>...</td>\n",
              "      <td>...</td>\n",
              "      <td>...</td>\n",
              "      <td>...</td>\n",
              "      <td>...</td>\n",
              "      <td>...</td>\n",
              "      <td>...</td>\n",
              "      <td>...</td>\n",
              "      <td>...</td>\n",
              "      <td>...</td>\n",
              "      <td>...</td>\n",
              "      <td>...</td>\n",
              "      <td>...</td>\n",
              "      <td>...</td>\n",
              "      <td>...</td>\n",
              "      <td>...</td>\n",
              "      <td>...</td>\n",
              "      <td>...</td>\n",
              "      <td>...</td>\n",
              "      <td>...</td>\n",
              "      <td>...</td>\n",
              "      <td>...</td>\n",
              "      <td>...</td>\n",
              "      <td>...</td>\n",
              "      <td>...</td>\n",
              "    </tr>\n",
              "    <tr>\n",
              "      <th>3716</th>\n",
              "      <td>3717</td>\n",
              "      <td>Reservoir</td>\n",
              "      <td>NaN</td>\n",
              "      <td>Swift</td>\n",
              "      <td>DCW</td>\n",
              "      <td>14.4</td>\n",
              "      <td>31.8</td>\n",
              "      <td>-122.11</td>\n",
              "      <td>46.06</td>\n",
              "      <td>292</td>\n",
              "      <td>1.3</td>\n",
              "      <td>61.2</td>\n",
              "      <td>0.93</td>\n",
              "      <td>ICOLD_LRs</td>\n",
              "      <td>United States</td>\n",
              "      <td>NaN</td>\n",
              "      <td>Lewis</td>\n",
              "      <td>Cougar</td>\n",
              "      <td>NaN</td>\n",
              "      <td>NaN</td>\n",
              "      <td>19.0</td>\n",
              "      <td>ICOLD</td>\n",
              "      <td>1246.0</td>\n",
              "      <td>186.0</td>\n",
              "      <td>1958.0</td>\n",
              "      <td>h</td>\n",
              "      <td>c</td>\n",
              "      <td>r</td>\n",
              "    </tr>\n",
              "    <tr>\n",
              "      <th>3717</th>\n",
              "      <td>3718</td>\n",
              "      <td>Reservoir</td>\n",
              "      <td>NaN</td>\n",
              "      <td>New Bullards Bar</td>\n",
              "      <td>DCW</td>\n",
              "      <td>13.0</td>\n",
              "      <td>37.1</td>\n",
              "      <td>-121.13</td>\n",
              "      <td>39.44</td>\n",
              "      <td>583</td>\n",
              "      <td>1.3</td>\n",
              "      <td>20.6</td>\n",
              "      <td>0.90</td>\n",
              "      <td>ICOLD</td>\n",
              "      <td>United States</td>\n",
              "      <td>NaN</td>\n",
              "      <td>N. Yuba</td>\n",
              "      <td>Marysville</td>\n",
              "      <td>NaN</td>\n",
              "      <td>NaN</td>\n",
              "      <td>19.0</td>\n",
              "      <td>ICOLD</td>\n",
              "      <td>0.0</td>\n",
              "      <td>194.0</td>\n",
              "      <td>1970.0</td>\n",
              "      <td>s</td>\n",
              "      <td>h</td>\n",
              "      <td>f</td>\n",
              "    </tr>\n",
              "    <tr>\n",
              "      <th>3718</th>\n",
              "      <td>3719</td>\n",
              "      <td>Reservoir</td>\n",
              "      <td>NaN</td>\n",
              "      <td>Callada</td>\n",
              "      <td>DCW</td>\n",
              "      <td>12.7</td>\n",
              "      <td>34.8</td>\n",
              "      <td>77.17</td>\n",
              "      <td>8.53</td>\n",
              "      <td>122</td>\n",
              "      <td>0.1</td>\n",
              "      <td>0.8</td>\n",
              "      <td>0.50</td>\n",
              "      <td>LRs</td>\n",
              "      <td>India</td>\n",
              "      <td>NaN</td>\n",
              "      <td>Callada</td>\n",
              "      <td>Trivandrum</td>\n",
              "      <td>NaN</td>\n",
              "      <td>NaN</td>\n",
              "      <td>51.0</td>\n",
              "      <td>LRs_cor</td>\n",
              "      <td>0.0</td>\n",
              "      <td>85.0</td>\n",
              "      <td>0.0</td>\n",
              "      <td>NaN</td>\n",
              "      <td>NaN</td>\n",
              "      <td>NaN</td>\n",
              "    </tr>\n",
              "    <tr>\n",
              "      <th>3719</th>\n",
              "      <td>3720</td>\n",
              "      <td>Reservoir</td>\n",
              "      <td>NaN</td>\n",
              "      <td>Lois(Scanlon)</td>\n",
              "      <td>DCW</td>\n",
              "      <td>12.2</td>\n",
              "      <td>29.8</td>\n",
              "      <td>-124.41</td>\n",
              "      <td>49.92</td>\n",
              "      <td>208</td>\n",
              "      <td>0.1</td>\n",
              "      <td>1.8</td>\n",
              "      <td>0.56</td>\n",
              "      <td>ICOLD_LRs</td>\n",
              "      <td>Canada</td>\n",
              "      <td>NaN</td>\n",
              "      <td>Lois</td>\n",
              "      <td>Powell River</td>\n",
              "      <td>NaN</td>\n",
              "      <td>NaN</td>\n",
              "      <td>30.0</td>\n",
              "      <td>Statistics</td>\n",
              "      <td>0.0</td>\n",
              "      <td>64.0</td>\n",
              "      <td>1941.0</td>\n",
              "      <td>h</td>\n",
              "      <td>NaN</td>\n",
              "      <td>NaN</td>\n",
              "    </tr>\n",
              "    <tr>\n",
              "      <th>3720</th>\n",
              "      <td>3721</td>\n",
              "      <td>Reservoir</td>\n",
              "      <td>NaN</td>\n",
              "      <td>New Melones</td>\n",
              "      <td>DCW</td>\n",
              "      <td>11.6</td>\n",
              "      <td>31.9</td>\n",
              "      <td>-120.52</td>\n",
              "      <td>37.98</td>\n",
              "      <td>305</td>\n",
              "      <td>2.4</td>\n",
              "      <td>38.9</td>\n",
              "      <td>1.47</td>\n",
              "      <td>ICOLD</td>\n",
              "      <td>United States</td>\n",
              "      <td>NaN</td>\n",
              "      <td>Stanislaus</td>\n",
              "      <td>Modesto</td>\n",
              "      <td>NaN</td>\n",
              "      <td>NaN</td>\n",
              "      <td>54.0</td>\n",
              "      <td>ICOLD</td>\n",
              "      <td>2323.0</td>\n",
              "      <td>191.0</td>\n",
              "      <td>1979.0</td>\n",
              "      <td>i</td>\n",
              "      <td>c</td>\n",
              "      <td>h</td>\n",
              "    </tr>\n",
              "  </tbody>\n",
              "</table>\n",
              "<p>3721 rows × 28 columns</p>\n",
              "</div>"
            ],
            "text/plain": [
              "      GLWD_ID       TYPE      LAKE_NAME  ... USE_1 USE_2  USE_3\n",
              "0           1       Lake    Caspian Sea  ...   NaN   NaN    NaN\n",
              "1           2       Lake  Lake Superior  ...   NaN   NaN    NaN\n",
              "2           3       Lake  Lake Victoria  ...     i     h    NaN\n",
              "3           4       Lake       Aral Sea  ...   NaN   NaN    NaN\n",
              "4           5       Lake     Lake Huron  ...   NaN   NaN    NaN\n",
              "...       ...        ...            ...  ...   ...   ...    ...\n",
              "3716     3717  Reservoir            NaN  ...     h     c      r\n",
              "3717     3718  Reservoir            NaN  ...     s     h      f\n",
              "3718     3719  Reservoir            NaN  ...   NaN   NaN    NaN\n",
              "3719     3720  Reservoir            NaN  ...     h   NaN    NaN\n",
              "3720     3721  Reservoir            NaN  ...     i     c      h\n",
              "\n",
              "[3721 rows x 28 columns]"
            ]
          },
          "metadata": {
            "tags": []
          },
          "execution_count": 8
        }
      ]
    },
    {
      "cell_type": "code",
      "metadata": {
        "id": "F0hW1KCH_rAb",
        "outputId": "602b78c8-59f2-4a99-8a2e-3c9aa06faed8",
        "colab": {
          "base_uri": "https://localhost:8080/",
          "height": 282
        }
      },
      "source": [
        "#glwd1[\"ELEV_M\"].hist(weights=glwd1[\"AREA_SKM\"])#(hist_kws={'weights':df.wt.values})\n",
        "#glwd1[\"ELEV_M\"].hist()\n",
        "glwd1[\"LAT_DEG\"].hist(bins=20)"
      ],
      "execution_count": null,
      "outputs": [
        {
          "output_type": "execute_result",
          "data": {
            "text/plain": [
              "<matplotlib.axes._subplots.AxesSubplot at 0x7f7052464710>"
            ]
          },
          "metadata": {
            "tags": []
          },
          "execution_count": 9
        },
        {
          "output_type": "display_data",
          "data": {
            "image/png": "[encoded data removed]",
            "text/plain": [
              "<Figure size 432x288 with 1 Axes>"
            ]
          },
          "metadata": {
            "tags": [],
            "needs_background": "light"
          }
        }
      ]
    },
    {
      "cell_type": "code",
      "metadata": {
        "id": "hvrUpSXiDo-4",
        "outputId": "16f50b75-6539-460f-b65b-3c3e0f05ade6",
        "colab": {
          "base_uri": "https://localhost:8080/",
          "height": 282
        }
      },
      "source": [
        "glwd1[\"LAT_DEG\"].hist(bins=20, weights=glwd1[\"AREA_SKM\"])\n",
        "glwd2[\"LAT_DEG\"].hist(bins=20, weights=glwd2[\"AREA_SKM\"])"
      ],
      "execution_count": null,
      "outputs": [
        {
          "output_type": "execute_result",
          "data": {
            "text/plain": [
              "<matplotlib.axes._subplots.AxesSubplot at 0x7f704a7a4860>"
            ]
          },
          "metadata": {
            "tags": []
          },
          "execution_count": 12
        },
        {
          "output_type": "display_data",
          "data": {
            "image/png": "[encoded data removed]",
            "text/plain": [
              "<Figure size 432x288 with 1 Axes>"
            ]
          },
          "metadata": {
            "tags": [],
            "needs_background": "light"
          }
        }
      ]
    },
    {
      "cell_type": "code",
      "metadata": {
        "id": "bfDocKRDEmab",
        "outputId": "a19b5ce8-dec2-4a85-a3bf-abb8854ed90d",
        "colab": {
          "base_uri": "https://localhost:8080/",
          "height": 296
        }
      },
      "source": [
        "glwd1[\"compact\"] = glwd1[\"PERIM_KM\"]/glwd1[\"AREA_SKM\"]\n",
        "glwd1.plot.scatter(\"compact\",\"LAT_DEG\")\n",
        "# join the datasets to see impact of small lakes on above\n",
        "# Also compactness measure"
      ],
      "execution_count": null,
      "outputs": [
        {
          "output_type": "execute_result",
          "data": {
            "text/plain": [
              "<matplotlib.axes._subplots.AxesSubplot at 0x7f704a4449b0>"
            ]
          },
          "metadata": {
            "tags": []
          },
          "execution_count": 16
        },
        {
          "output_type": "display_data",
          "data": {
            "image/png": "[encoded data removed]",
            "text/plain": [
              "<Figure size 432x288 with 1 Axes>"
            ]
          },
          "metadata": {
            "tags": [],
            "needs_background": "light"
          }
        }
      ]
    },
    {
      "cell_type": "code",
      "metadata": {
        "id": "VuA3mJNAmKNj",
        "outputId": "5e0edc8f-12a1-4b6a-a12e-27b117e7992f",
        "colab": {
          "base_uri": "https://localhost:8080/",
          "height": 296
        }
      },
      "source": [
        "glwd2[\"compact\"] = glwd2[\"PERIM_KM\"]/glwd2[\"AREA_SKM\"]\n",
        "glwd2.plot.scatter(\"compact\",\"LAT_DEG\")"
      ],
      "execution_count": null,
      "outputs": [
        {
          "output_type": "execute_result",
          "data": {
            "text/plain": [
              "<matplotlib.axes._subplots.AxesSubplot at 0x7f704a448390>"
            ]
          },
          "metadata": {
            "tags": []
          },
          "execution_count": 17
        },
        {
          "output_type": "display_data",
          "data": {
            "image/png": "[encoded data removed]",
            "text/plain": [
              "<Figure size 432x288 with 1 Axes>"
            ]
          },
          "metadata": {
            "tags": [],
            "needs_background": "light"
          }
        }
      ]
    },
    {
      "cell_type": "code",
      "metadata": {
        "id": "SLUolrQSndDj",
        "outputId": "b316619b-fe45-4946-f37e-38b95a296652",
        "colab": {
          "base_uri": "https://localhost:8080/",
          "height": 296
        }
      },
      "source": [
        "import seaborn as sns\n",
        "sns.kdeplot(data=glwd1, x=\"compact\", y=\"LAT_DEG\", fill=True, weights=\"AREA_SKM\", bw_method=0.2)"
      ],
      "execution_count": null,
      "outputs": [
        {
          "output_type": "execute_result",
          "data": {
            "text/plain": [
              "<matplotlib.axes._subplots.AxesSubplot at 0x7f7049ae0ef0>"
            ]
          },
          "metadata": {
            "tags": []
          },
          "execution_count": 26
        },
        {
          "output_type": "display_data",
          "data": {
            "image/png": "[encoded data removed]",
            "text/plain": [
              "<Figure size 432x288 with 1 Axes>"
            ]
          },
          "metadata": {
            "tags": [],
            "needs_background": "light"
          }
        }
      ]
    },
    {
      "cell_type": "markdown",
      "metadata": {
        "id": "MD7R-suOujsI"
      },
      "source": [
        "# Part 5.6 - Data Story Telling - *Mini-lecture*"
      ]
    },
    {
      "cell_type": "markdown",
      "metadata": {
        "id": "2pFCb_ffunXS"
      },
      "source": [
        "# Part 5.7 - \"How do I do that?\" Open Session - *Workshop/Discussion*\n",
        "Open discussion and workshop on any python or data science topic of interest."
      ]
    },
    {
      "cell_type": "code",
      "metadata": {
        "id": "lYmfzx64um6w"
      },
      "source": [
        ""
      ],
      "execution_count": null,
      "outputs": []
    },
    {
      "cell_type": "markdown",
      "metadata": {
        "id": "noqaxCyeu0Gl"
      },
      "source": [
        "# Part 5.8 - Assignment\n",
        "Now that you have more experience working with data, and telling stories with data, we return to the weather story telling assignment.\n",
        "\n",
        "**Task**\n",
        "\n",
        "Improve and expand your original assignment from Session 3. Your submission should be roughly twice the length of the original. Build upon the new content introduced in this session and feedback from your peers.\n",
        "\n",
        "You can add more cities to your analysis using data from https://rp5.ru/ if you want a challenge, but you will need to do several pre-processing steps on the data to make it comparable to the data provided for the session 3 assignment.\n",
        "\n",
        "\n",
        "**Submission**\n",
        "* Submit the assignment here: https://github.com/ds4geo/ds4geo_ws2020/tree/master/Assignments/Session%203\n",
        "* Create a new Colab notebook via Google Drive, then save it to the submission repository using \"save a copy to GitHub\". See here:\n",
        " * https://github.com/ds4geo/ds4geo/blob/master/Github%20Assignment%20Readme.md\n",
        "* The **deadline** is 23:59 on 18th November 2020.\n",
        "* This assignment comprises 5% of the assessment for the course. Marks are awarded for clear, effective and interesting data driven story telling.\n",
        "\n",
        "Submitted notebooks will be made available to the whole class, and will be discussed in session 6.\n"
      ]
    },
    {
      "cell_type": "markdown",
      "metadata": {
        "id": "Y0DcKrm1u2ii"
      },
      "source": [
        "#References"
      ]
    },
    {
      "cell_type": "markdown",
      "metadata": {
        "id": "nxwb308wnGd2"
      },
      "source": [
        "# **Data Science for Geoscientists - Winter Semester 2020**\n",
        "# **Session 6 - Regressions - 11th November 2020**"
      ]
    },
    {
      "cell_type": "markdown",
      "metadata": {
        "id": "260v-T44nGQv"
      },
      "source": [
        "Multivariate stats, regressions, curve fitting\n",
        "Introduce main project"
      ]
    },
    {
      "cell_type": "code",
      "metadata": {
        "id": "35PczK1ZnDKo"
      },
      "source": [
        ""
      ],
      "execution_count": null,
      "outputs": []
    },
    {
      "cell_type": "markdown",
      "metadata": {
        "id": "0ZJjy0T8Dsmy"
      },
      "source": [
        "# Part 6.1 - Ice Breaker - *Discussion*"
      ]
    },
    {
      "cell_type": "markdown",
      "metadata": {
        "id": "JKpUcGvlDxWK"
      },
      "source": [
        "# Part 6.2 - Introduction to Regressions - *Mini-lecture*"
      ]
    },
    {
      "cell_type": "markdown",
      "metadata": {
        "id": "yhkiHR-bEiDF"
      },
      "source": [
        "# Part 6.3 - Linear Regression Excercise - *Workshop*\n",
        "\n"
      ]
    },
    {
      "cell_type": "markdown",
      "metadata": {
        "id": "R4Y6HiKCE9oN"
      },
      "source": [
        "# Part 6.4 - Data Description Excercise - *Workshop*"
      ]
    },
    {
      "cell_type": "markdown",
      "metadata": {
        "id": "OBoWHUUCFNi4"
      },
      "source": [
        "# Part 6.5 - Robustness of Statistics - *Mini-lecture*"
      ]
    },
    {
      "cell_type": "markdown",
      "metadata": {
        "id": "s4ShnF_AFee2"
      },
      "source": [
        "# Part 6.6 - Time Series Comparisons - *Mini-lecture*"
      ]
    },
    {
      "cell_type": "markdown",
      "metadata": {
        "id": "Jg6_TUE5Fkdt"
      },
      "source": [
        "# Part 6.7 - Time Series Comparisons Excercise - *Workshop*"
      ]
    },
    {
      "cell_type": "markdown",
      "metadata": {
        "id": "zJp_ZNvzF2c0"
      },
      "source": [
        "# Part 6.8 - Open Time Series Workshop - *Workshop*"
      ]
    },
    {
      "cell_type": "markdown",
      "metadata": {
        "id": "0nsOGKU7F8pw"
      },
      "source": [
        "# Part 6.9 - Assignment"
      ]
    },
    {
      "cell_type": "markdown",
      "metadata": {
        "id": "neppBlZeDC-E"
      },
      "source": [
        ""
      ]
    }
  ]
}