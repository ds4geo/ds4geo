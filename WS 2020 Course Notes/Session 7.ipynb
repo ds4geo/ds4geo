{
  "nbformat": 4,
  "nbformat_minor": 0,
  "metadata": {
    "colab": {
      "name": "Session 7.ipynb",
      "provenance": [],
      "toc_visible": true,
      "authorship_tag": "ABX9TyM+fdns3O9SKejcvBgNJjC0",
      "include_colab_link": true
    },
    "kernelspec": {
      "name": "python3",
      "display_name": "Python 3"
    }
  },
  "cells": [
    {
      "cell_type": "markdown",
      "metadata": {
        "id": "view-in-github",
        "colab_type": "text"
      },
      "source": [
        "<a href=\"https://colab.research.google.com/github/ds4geo/ds4geo/blob/master/WS%202020%20Course%20Notes/Session%207.ipynb\" target=\"_parent\"><img src=\"https://colab.research.google.com/assets/colab-badge.svg\" alt=\"Open In Colab\"/></a>"
      ]
    },
    {
      "cell_type": "markdown",
      "metadata": {
        "id": "xX3ZVX-D9OG6"
      },
      "source": [
        "# **Data Science for Geoscientists - Winter Semester 2020**\n",
        "# **Session 7 - Data Exploration - 18th November 2020**"
      ]
    },
    {
      "cell_type": "markdown",
      "metadata": {
        "id": "1tfE_Geo9PGC"
      },
      "source": [
        "# Part 7.1 - Warm-up Excercise - *Workshop*\n",
        "Calculate the average value of the data in the following csv file:\n",
        "\n",
        "https://raw.githubusercontent.com/ds4geo/ds4geo/master/data/unordered/s7_warmup.csv\n"
      ]
    },
    {
      "cell_type": "markdown",
      "metadata": {
        "id": "vnZryHUc9e9i"
      },
      "source": [
        "# Part 7.2 - Weather Assignment Review - *Discussion*\n",
        "\n",
        "* General comments\n",
        "* specific example of plotting by year - mention group-by\n",
        "* Discussion about narative and story-telling\n",
        "* \"How do I do that?\""
      ]
    },
    {
      "cell_type": "markdown",
      "metadata": {
        "id": "p-czxvqz98n1"
      },
      "source": [
        "# Part 7.3 - Weather Assignment Part 2\n",
        "\n",
        "Thank you and well done with your assignments from week 3 and the feedback you have given each other. There were many impressive analyses and good naratives, but all have room for improvement.\n",
        "\n",
        "This assignment is to continue with your week 3 weather data analysis submissions. The general guidelines are as they were origionally, but additionally:\n",
        "1. Expand your analysis by:\n",
        " * adding more cities\n",
        " and/or\n",
        " * adding additional analyses or visualisations\n",
        "2. Focus on:\n",
        " * Creating an interesting and compelling story/narative with a clear introduction (hook), and conclusion at the end.\n",
        " * Creating clear and informative visualisations.\n",
        " * Creating a clear structure using text cells and headings.\n",
        "\n",
        "\n",
        "\n",
        "\n",
        "**Submission**\n",
        "* Submit the assignment here: https://github.com/ds4geo/ds4geo_ws2020/tree/master/Assignments/Session%207\n",
        "* The **deadline** is 23:59 on 1st December 2020.\n",
        "* This assignment comprises 10% of the assessment for the course. Marks are awarded for clear, effective and interesting data driven story telling.\n",
        "\n",
        "Submitted notebooks will be available to the whole class.\n"
      ]
    },
    {
      "cell_type": "markdown",
      "metadata": {
        "id": "V2EhN_v9-AwA"
      },
      "source": [
        "# Part 7.4 - Interactive Data Exploration Excercise - *Discussion/Walkthrough*\n",
        "\n",
        "We will explore the HydroLakes (https://www.hydrosheds.org/pages/hydrolakes) dataset containing information about 1.4 million lakes greater than 10 ha in size around the world.\n",
        "\n",
        "Attribute data includes:\n",
        "* Lake_name\n",
        "* Country\n",
        "* Continent\n",
        "* Lake_type (1=natural, 2=dam, 3=natural with controls)\n",
        "* Lake_area (in km2)\n",
        "* Shore_len (length of shoreline in km)\n",
        "* Shore_dev (measure of shape - 1=circle, higher = more non-circular, irregular or complex)\n",
        "* Vol_total (lake volume in million cubic meters, 0.001 km3)\n",
        "* Depth_avg (average lake depth in m)\n",
        "* Dis_avg (average discharge through lake in cubic m/s)\n",
        "* Res_time (average residence time in days)\n",
        "* Elevation (meters above sea level)\n",
        "* Slope_100 (average topographic slope in degrees in 100 m buffer of shoreline)\n",
        "* Wshd_area (area of lake watershed in km2)\n",
        "* Pour_lat, Pour_long (lat and long of lake pour point)\n",
        "* Cent_lat, Cent_long (lat and long of lake centre point)\n",
        "\n",
        "Students will suggest analyses and visualisations, and we will code line by line together to perform them.\n",
        "\n"
      ]
    },
    {
      "cell_type": "markdown",
      "metadata": {
        "id": "rl-NDFrNBhUB"
      },
      "source": [
        "## Part 7.4.1 - Loading the data\n",
        "The data is contained in a series of csv files here:\n",
        "\n",
        "https://github.com/ds4geo/ds4geo/tree/master/data/geospatial/HydroLakes"
      ]
    },
    {
      "cell_type": "code",
      "metadata": {
        "id": "gj7EeXQSBja0"
      },
      "source": [
        ""
      ],
      "execution_count": null,
      "outputs": []
    },
    {
      "cell_type": "markdown",
      "metadata": {
        "id": "YwaIIaVyBjs0"
      },
      "source": [
        "## Part 7.4.2 - Simple overviews and statistics\n"
      ]
    },
    {
      "cell_type": "code",
      "metadata": {
        "id": "-he3geqaB6kS"
      },
      "source": [
        "# ideas:\n",
        "'''\n",
        "- total area, compared to land area and global surface area\n",
        "- total volume, compared to something?\n",
        "- top lakes by area, depth, other stats?\n",
        "- etc.\n",
        "'''"
      ],
      "execution_count": null,
      "outputs": []
    },
    {
      "cell_type": "markdown",
      "metadata": {
        "id": "VSM5fQYrB61G"
      },
      "source": [
        "## Part 7.4.3 - Advanced analyses and visualisations"
      ]
    },
    {
      "cell_type": "code",
      "metadata": {
        "id": "Nz1aNFBrCcM-"
      },
      "source": [
        "# ideas:\n",
        "'''\n",
        "- where is the water surface concentrated?\n",
        "- where are the shorelines concentrated?\n",
        "- where is the water volume concentrated?\n",
        "\n",
        "- relationships between parameters: depth, area, shoreline, residence time, location, etc.\n",
        "\n",
        "'''"
      ],
      "execution_count": null,
      "outputs": []
    }
  ]
}