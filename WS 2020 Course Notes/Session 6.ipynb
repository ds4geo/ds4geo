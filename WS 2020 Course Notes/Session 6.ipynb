{
  "nbformat": 4,
  "nbformat_minor": 0,
  "metadata": {
    "colab": {
      "name": "Session 6.ipynb",
      "provenance": [],
      "toc_visible": true,
      "authorship_tag": "ABX9TyOi+I2s8aAQVCrAXfpxKSX0",
      "include_colab_link": true
    },
    "kernelspec": {
      "name": "python3",
      "display_name": "Python 3"
    }
  },
  "cells": [
    {
      "cell_type": "markdown",
      "metadata": {
        "id": "view-in-github",
        "colab_type": "text"
      },
      "source": [
        "<a href=\"https://colab.research.google.com/github/ds4geo/ds4geo/blob/master/WS%202020%20Course%20Notes/Session%206.ipynb\" target=\"_parent\"><img src=\"https://colab.research.google.com/assets/colab-badge.svg\" alt=\"Open In Colab\"/></a>"
      ]
    },
    {
      "cell_type": "markdown",
      "metadata": {
        "id": "4Ywl-SRLCCX8"
      },
      "source": [
        "#TODO\n",
        "\n",
        "* Intro\n",
        "* Expand filtering filtering intro lecture\n",
        "* create steps/pseudo code for 6.2 workshop and prepare walkthrough\n",
        "* Expand advanced filtering lecture notes\n",
        "* create steps/pseudo code for 6.4 workshop and prepare walkthrough\n",
        "* fully prepare 6.5\n",
        "* example datasets for 6.5"
      ]
    },
    {
      "cell_type": "markdown",
      "metadata": {
        "id": "pIsCL6JYm2bk"
      },
      "source": [
        "# **Data Science for Geoscientists - Winter Semester 2020**\n",
        "# **Session 6 - Smoothing and Filtering - 11th November 2020**"
      ]
    },
    {
      "cell_type": "markdown",
      "metadata": {
        "id": "YEL0Cwnfm36b"
      },
      "source": [
        ""
      ]
    },
    {
      "cell_type": "markdown",
      "metadata": {
        "id": "WmO6uBAjecgr"
      },
      "source": [
        "#Part 6.1 - Introduction to data filtering - *Mini-lecture*\n",
        "\n",
        "* Most common: moving/rolling averages\n",
        "* Make a moving/rolling \"window\", and take average of values in window for each position across dataset.\n",
        "* Simple application in Numpy:\n",
        " * Filter of 1/n (n=filter length)\n",
        " * convolve filter with data\n",
        "\n",
        "* Pandas has simple rolling/smoothing methods to explore yourselves.\n"
      ]
    },
    {
      "cell_type": "markdown",
      "metadata": {
        "id": "6OqJlpUZiFDH"
      },
      "source": [
        "#Part 6.2 - Data filtering excercise - *Walkthrough/Workshop*\n",
        "We will apply a simple moving average filter on a noisy dataset to smooth it.\n",
        "\n",
        "You can either use a dataset of your choice (from the student submitted datasets), or use the following XRF core scanning data from an Antarctic sediment core: \"https://doi.pangaea.de/10.1594/PANGAEA.859980?format=textfile\" (V is particularly noisy).\n",
        "\n",
        "1. Construct a filter: a 1d numpy array with length n and each value being 1/n (so its sum is 1). The length must be an odd number.\n",
        "\n",
        "2. Apply the filter by convolving it with the data to be filtered using np.convolve.\n",
        "\n",
        "3. Plot the original and smoothed data.\n",
        "\n",
        "4. Experiment with different filter lengths.\n"
      ]
    },
    {
      "cell_type": "markdown",
      "metadata": {
        "id": "iIVomhaKEzaw"
      },
      "source": [
        "*Add pseudocode or examples*"
      ]
    },
    {
      "cell_type": "code",
      "metadata": {
        "id": "lc8Rc8D3fmo6"
      },
      "source": [
        ""
      ],
      "execution_count": null,
      "outputs": []
    },
    {
      "cell_type": "markdown",
      "metadata": {
        "id": "AdlfQJc8jQ-G"
      },
      "source": [
        "# Part 6.3 - Advanced filtering - *Mini-lecture*\n",
        "* Moving average filters equally weight importance of all data in the window.\n",
        "* However, probably want to weight central points more than distant ones.\n",
        "* Many more complex filter shapes exist, e.g. those in assignment task 1.\n",
        "* Filtering is also possible in frequency domain with Fourier Transforms – not addressed in this course.\n"
      ]
    },
    {
      "cell_type": "code",
      "metadata": {
        "id": "pi1X-nHbmscW"
      },
      "source": [
        ""
      ],
      "execution_count": null,
      "outputs": []
    },
    {
      "cell_type": "markdown",
      "metadata": {
        "id": "Kmgic9mGFHTY"
      },
      "source": [
        "# Part 6.4 - Advanced filtering excercise - *Walkthrough/Workshop*\n",
        "\n",
        "Numpy provides some more complex filters here: https://numpy.org/doc/stable/reference/routines.window.html (window means filter in this context)\n",
        "Create a notebook where you apply these filters as well moving average filters to a noisy dataset. Experiment also with different filter lengths and comment on the differences and value of each method.\n"
      ]
    },
    {
      "cell_type": "code",
      "metadata": {
        "id": "BGo1whfdFUvc"
      },
      "source": [
        "# add example or pseudocode"
      ],
      "execution_count": null,
      "outputs": []
    },
    {
      "cell_type": "markdown",
      "metadata": {
        "id": "T-9QzusxFcOh"
      },
      "source": [
        "# Part 6.5 - Filtering and Resampling in Pandas - *Walkthrough/Workshop*\n",
        "\n",
        "We initially approached the topics of resampling/interpolation and filtering/smoothing with numpy to emphasise mathematically what is going on. Pandas however gives us effective tools to do it easliy and quickly, even though what is going on underneath is more hidden.\n",
        "\n",
        "We will now apply these topics using Pandas and data of your choice.\n",
        "*rewrite/expand*"
      ]
    },
    {
      "cell_type": "markdown",
      "metadata": {
        "id": "I3K7CmUnGBsr"
      },
      "source": [
        "# Part 6.5.1 - Resampling/Interpolation in Pandas\n",
        "\n",
        "*example datasets/tasks*\n",
        "*create example, then they apply to dataset of their choice*"
      ]
    },
    {
      "cell_type": "markdown",
      "metadata": {
        "id": "6heQFdFVHkBf"
      },
      "source": [
        "# Part 6.5.2 - Filtering/Smoothing in Pandas"
      ]
    },
    {
      "cell_type": "markdown",
      "metadata": {
        "id": "Y00pU-OyGUh_"
      },
      "source": [
        "# Assignment\n",
        "*next week discuss weather assignment plus data story telling and stats, but can start working on part 2 already*\n",
        "*therefore, what is the expanded weather data assignment?*\n",
        "*most important is effective story telling and communication*\n",
        "*can expand to more cities, go into more detail on original cities, or focus on re-working existing with better story*"
      ]
    },
    {
      "cell_type": "markdown",
      "metadata": {
        "id": "Y0DcKrm1u2ii"
      },
      "source": [
        "#References"
      ]
    }
  ]
}