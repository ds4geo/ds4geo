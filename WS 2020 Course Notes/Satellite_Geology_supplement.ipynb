{
  "nbformat": 4,
  "nbformat_minor": 0,
  "metadata": {
    "colab": {
      "name": "Untitled6.ipynb",
      "provenance": [],
      "authorship_tag": "ABX9TyNQFKd243bN2fvMiNuv/Eit",
      "include_colab_link": true
    },
    "kernelspec": {
      "name": "python3",
      "display_name": "Python 3"
    }
  },
  "cells": [
    {
      "cell_type": "markdown",
      "metadata": {
        "id": "view-in-github",
        "colab_type": "text"
      },
      "source": [
        "<a href=\"https://colab.research.google.com/github/ds4geo/ds4geo/blob/master/WS%202020%20Course%20Notes/Satellite_Geology_supplement.ipynb\" target=\"_parent\"><img src=\"https://colab.research.google.com/assets/colab-badge.svg\" alt=\"Open In Colab\"/></a>"
      ]
    },
    {
      "cell_type": "code",
      "metadata": {
        "id": "WElfaA1CuoCA"
      },
      "source": [
        "! pip install geopandas"
      ],
      "execution_count": null,
      "outputs": []
    },
    {
      "cell_type": "code",
      "metadata": {
        "id": "TUwYRCiK4CoH"
      },
      "source": [
        "!pip install rasterio\r\n",
        "!pip install rasterstats"
      ],
      "execution_count": null,
      "outputs": []
    },
    {
      "cell_type": "code",
      "metadata": {
        "id": "zI4eK5mn4TTC"
      },
      "source": [
        "import geopandas as gpd\r\n",
        "import rasterio as rio\r\n",
        "import rasterstats"
      ],
      "execution_count": null,
      "outputs": []
    },
    {
      "cell_type": "markdown",
      "metadata": {
        "id": "fqo9brAh4MCO"
      },
      "source": [
        "# Investigating Iran geological map"
      ]
    },
    {
      "cell_type": "code",
      "metadata": {
        "id": "HjFVmEXrvODO"
      },
      "source": [
        "# Download and unzip data\r\n",
        "!wget https://certmapper.cr.usgs.gov/data/we/ofr97470g/spatial/shape/geo2cg.zip\r\n",
        "!unzip geo2cg.zip\r\n",
        "# legend: https://certmapper.cr.usgs.gov/server/rest/services/geology/iran/MapServer/legend"
      ],
      "execution_count": null,
      "outputs": []
    },
    {
      "cell_type": "code",
      "metadata": {
        "id": "vfq7PleNwKsI"
      },
      "source": [
        "# Read the data\r\n",
        "dat = gpd.read_file(\"geo2cg.shp\")"
      ],
      "execution_count": null,
      "outputs": []
    },
    {
      "cell_type": "code",
      "metadata": {
        "id": "8t_K0wSAycvq"
      },
      "source": [
        "# Human readable names\r\n",
        "name_dict = {'C': 'Carboniferous',\r\n",
        " 'CD': 'Carboniferous-Devonian',\r\n",
        " 'Cm': 'Cambrian',\r\n",
        " 'CmpCm': 'Cambrian-Precambrian',\r\n",
        " 'CzMzi': 'Cenozoic-Mesozoic Intrusives',\r\n",
        " 'CzMzv': 'Mesozoic-Cenozoic Volcanics',\r\n",
        " 'Czv': 'Cenozoic Volcanics',\r\n",
        " 'D': 'Devonian',\r\n",
        " 'Lakes': 'and wide rivers',\r\n",
        " 'Io': 'Ophiolites (undifferentiated)',\r\n",
        " 'J': 'Jurassic',\r\n",
        " 'JTr': 'Jurassic-Triassic',\r\n",
        " 'K': 'Cretaceous',\r\n",
        " 'KJ': 'Cretaceous-Jurassic',\r\n",
        " 'Mz': 'Mesozoic',\r\n",
        " 'MzPzi': 'Mesozoic-Paleozoic Intrusives',\r\n",
        " 'MzPz': 'Mesozoic-Paleozoic',\r\n",
        " 'Mzi': 'Mesozoic Intrusives',\r\n",
        " 'Mzo': 'Mesozoic Ophiolites',\r\n",
        " 'Mzv': 'Mesozoic Volcanics',\r\n",
        " 'N': 'Neogene',\r\n",
        " 'O': 'Ordovician',\r\n",
        " 'P': 'Permian',\r\n",
        " 'PC': 'Permian-Carboniferous',\r\n",
        " 'Pg': 'Paleogene',\r\n",
        " 'Pz': 'Paleozoic',\r\n",
        " 'PzpCm': 'Precambrian-Paleozoic',\r\n",
        " 'Pzv': 'Paleozoic Volcanics',\r\n",
        " 'Q': 'Quaternary ',\r\n",
        " 'QN': 'Quaternary-Neogene',\r\n",
        " 'Qe': 'Quaternary eolian ',\r\n",
        " 'Qsk': 'Quaternanry sabkha/marsh',\r\n",
        " 'Qv': 'Quaternary Volcanics',\r\n",
        " 'S': 'Silurian',\r\n",
        " 'SO': 'Silurian-Ordovician',\r\n",
        " 'Salt': 'Salt Undifferentiated ',\r\n",
        " 'T': 'Tertiary ',\r\n",
        " 'TK': 'Tertiary-Cretaceous',\r\n",
        " 'Ti': 'Tertiary Intrusives',\r\n",
        " 'To': 'Tertiary Ophiolites',\r\n",
        " 'Tr': 'Triassic',\r\n",
        " 'TrP': 'Triassic-Permian',\r\n",
        " 'Tv': 'Tertiary Volcanics',\r\n",
        " 'Areas': 'outside of Iran',\r\n",
        " 'acid': 'Acid igneous unknown age and type',\r\n",
        " 'ae': 'Acid Extrusives unknown age',\r\n",
        " 'ai': 'Acid Intrusives unknown age',\r\n",
        " 'basic': 'Basic igneous unknown age and type',\r\n",
        " 'be': 'Basic Extrusives unknown age',\r\n",
        " 'bi': 'Basic Intrusives unknown age',\r\n",
        " 'ie': 'Intermediate Extrusives unknown age',\r\n",
        " 'ii': 'Intermediate Intrusives unknown age',\r\n",
        " 'inter': 'Intermediate igneous unknown age and type',\r\n",
        " 'pCm': 'Precambrian',\r\n",
        " 'pCmi': 'Precambrian Intrusives',\r\n",
        " 'pCmv': 'Precambrian Volcanics',\r\n",
        " 'vs': 'Volcanics and Sedimentary deposites undiferentiated',\r\n",
        " 'U': 'Unknown',\r\n",
        " 'SEA': \"Sea\",\r\n",
        " 'H2O': 'Water'}"
      ],
      "execution_count": null,
      "outputs": []
    },
    {
      "cell_type": "code",
      "metadata": {
        "id": "O3PrlKW8wPtE"
      },
      "source": [
        "# add human readable names to dataframe\r\n",
        "dat[\"unit\"] = dat.GLG.apply(lambda x: name_dict[x])"
      ],
      "execution_count": null,
      "outputs": []
    },
    {
      "cell_type": "code",
      "metadata": {
        "id": "XWdm-lUdwTWM"
      },
      "source": [
        "dat.groupby(\"unit\").AREA.sum()"
      ],
      "execution_count": null,
      "outputs": []
    },
    {
      "cell_type": "code",
      "metadata": {
        "id": "OVg6ps4lwxul"
      },
      "source": [
        ""
      ],
      "execution_count": null,
      "outputs": []
    },
    {
      "cell_type": "markdown",
      "metadata": {
        "id": "T8RdIonY3LTy"
      },
      "source": [
        "# EO Data"
      ]
    },
    {
      "cell_type": "code",
      "metadata": {
        "id": "71FRk2rV3Mpa"
      },
      "source": [
        "!wget 'https://github.com/ds4geo/ds4geo/blob/master/data/geospatial/EO_geology/EO_Browser_images%20(25).zip?raw=true'\r\n",
        "!unzip 'EO_Browser_images (25).zip?raw=true' -d Sentinel2_im1\r\n"
      ],
      "execution_count": null,
      "outputs": []
    },
    {
      "cell_type": "code",
      "metadata": {
        "id": "ihn5HvID3aws"
      },
      "source": [
        "\r\n",
        "!ls"
      ],
      "execution_count": null,
      "outputs": []
    },
    {
      "cell_type": "code",
      "metadata": {
        "id": "feO_Ixe43uGL"
      },
      "source": [
        ""
      ],
      "execution_count": null,
      "outputs": []
    },
    {
      "cell_type": "code",
      "metadata": {
        "id": "8NKv5uyJ32gD"
      },
      "source": [
        ""
      ],
      "execution_count": null,
      "outputs": []
    }
  ]
}