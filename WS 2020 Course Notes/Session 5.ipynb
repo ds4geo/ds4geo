{
  "nbformat": 4,
  "nbformat_minor": 0,
  "metadata": {
    "colab": {
      "name": "DS4GEO_L5.ipynb",
      "provenance": [],
      "private_outputs": true,
      "toc_visible": true,
      "authorship_tag": "ABX9TyP9bCOn7oHZ1vKvCFI1o4pA",
      "include_colab_link": true
    },
    "kernelspec": {
      "name": "python3",
      "display_name": "Python 3"
    }
  },
  "cells": [
    {
      "cell_type": "markdown",
      "metadata": {
        "id": "view-in-github",
        "colab_type": "text"
      },
      "source": [
        "<a href=\"https://colab.research.google.com/github/ds4geo/ds4geo/blob/master/WS%202020%20Course%20Notes/Session%205.ipynb\" target=\"_parent\"><img src=\"https://colab.research.google.com/assets/colab-badge.svg\" alt=\"Open In Colab\"/></a>"
      ]
    },
    {
      "cell_type": "markdown",
      "metadata": {
        "id": "AcdW54CLeSyH"
      },
      "source": [
        "# **Data Science for Geoscientists - Winter Semester 2020**\n",
        "# **Session 5 - Time Series - 4th November 2020**\n",
        "In the previous sessions and assignments, we've covered basic data handling, maniuplation and visualisation. In this session we will go deeper into working with time series, especially two frequently encountered topics: interpolation and filtering. We will use a monitoring dataset from Spanagel cave."
      ]
    },
    {
      "cell_type": "markdown",
      "metadata": {
        "id": "uE7qVuiWebgJ"
      },
      "source": [
        "# Part 5.1 - Walkthrough of Session 4 LA-ICPMS excercise - *Walkthrough/Discussion*\n"
      ]
    },
    {
      "cell_type": "markdown",
      "metadata": {
        "id": "OVLAWrSYebwR"
      },
      "source": [
        "# Part 5.2 - Cave monitoring data excercise part 1 - *Workshop*\n",
        "We will work with cave monitoring data from Spanagel cave collected by Paul Töchterle and the UIBK Quaternary Research Group.\n",
        "\n",
        "The data was collected to understand the cave circulation which is important for interpreting speleothem based palaeoclimate records from the cave. Three types of data were collected: 1. outside air temperature, 2. cave temperature, and 3. cave CO2 concentration, oxygen and carbon isotope ratios.\n",
        "\n",
        "The following poster gives an explanation of the project and the data: https://github.com/ds4geo/ds4geo/blob/master/data/timeseries/Spanagel_Poster.pdf\n",
        "\n",
        "We will load the data and perform some important processing steps to enable further comparative analysis of the three datasets."
      ]
    },
    {
      "cell_type": "markdown",
      "metadata": {
        "id": "G28TpnTbyIUf"
      },
      "source": [
        "## Part 5.2.1 - Load the cave monitoring data\n",
        "Three datasets are available: Cave temperature, Outside air temperature, and Cave CO2 measurements (concentration, d13C, d18O).\n",
        "\n",
        "The data sets are located as follows:\n",
        "* Cave air temperature:\n",
        " * https://github.com/ds4geo/ds4geo/raw/master/data/timeseries/Au%C3%9Fenluft%2BEingangslabyrinth.xlsx\n",
        " * Sheet: \"Daten3\"\n",
        " * Time column: A, data column: G\n",
        "* Outside air temperature:\n",
        " * https://github.com/ds4geo/ds4geo/raw/master/data/timeseries/Au%C3%9Fenluft%2BEingangslabyrinth.xlsx\n",
        " * Sheet: \"Daten3\"\n",
        " * Time column: I, data column: J\n",
        "* Cave CO2 measurements:\n",
        " * https://github.com/ds4geo/ds4geo/raw/master/data/timeseries/CO2%20_compiled.xlsx\n",
        " * Sheet: \"Data Stream (2)\n",
        " * Time column: A, d13C column: C, d18O column: D, ppm CO2 column: E\n",
        "\n",
        "**Task**\n",
        "Load all three datasets using Pandas."
      ]
    },
    {
      "cell_type": "code",
      "metadata": {
        "id": "lQry0JS1zaOf"
      },
      "source": [
        "import pandas as pd\n",
        "import matplotlib.pyplot as plt\n"
      ],
      "execution_count": null,
      "outputs": []
    },
    {
      "cell_type": "code",
      "metadata": {
        "id": "kY-jL4T7yN_q"
      },
      "source": [
        "air_temp = pd.read_excel(\"https://github.com/ds4geo/ds4geo/raw/master/data/timeseries/Au%C3%9Fenluft%2BEingangslabyrinth.xlsx\",\n",
        "                         sheet_name=\"Daten3\", usecols=[0,6], names=[\"time\", \"air_temp\"])\n",
        "cave_temp = pd.read_excel(\"https://github.com/ds4geo/ds4geo/raw/master/data/timeseries/Au%C3%9Fenluft%2BEingangslabyrinth.xlsx\",\n",
        "                          sheet_name=\"Daten3\", usecols=[8,9], names=[\"time\", \"cave_temp\"])\n",
        "cave_CO2 = pd.read_excel(\"https://github.com/ds4geo/ds4geo/raw/master/data/timeseries/CO2%20_compiled.xlsx\",\n",
        "                         sheet_name=\"Data Stream (2)\", names=[\"time\", \"unknown\", \"d13C\", \"d18O\", \"ppm CO2\", \"ctime\"])"
      ],
      "execution_count": null,
      "outputs": []
    },
    {
      "cell_type": "code",
      "metadata": {
        "id": "NGEwQkBc1OTM"
      },
      "source": [
        "air_temp.head()\n",
        "#cave_temp.head()\n",
        "#cave_CO2.head()\n",
        "air_temp.index = air_temp[\"time\"]\n",
        "air_temp.loc[\"2009\"]"
      ],
      "execution_count": null,
      "outputs": []
    },
    {
      "cell_type": "markdown",
      "metadata": {
        "id": "WMedLSvQSvhm"
      },
      "source": [
        "##Part 5.2.2 - Plot the data to get an overview\n",
        "Make a few plots to get an overview of the data."
      ]
    },
    {
      "cell_type": "code",
      "metadata": {
        "id": "lqQPBEty39Zy"
      },
      "source": [
        "air_temp.loc[\"2009\"][\"time\"][0]\n",
        "air_temp.loc[\"2009\"][\"time\"][-1]"
      ],
      "execution_count": null,
      "outputs": []
    },
    {
      "cell_type": "code",
      "metadata": {
        "id": "RTN3n8OFTJf8"
      },
      "source": [
        "fig, ax = plt.subplots()\n",
        "at_2009 = air_temp.loc[\"2009\"]\n",
        "ax.plot(at_2009[\"time\"], at_2009[\"air_temp\"])\n",
        "#ax.plot(air_temp[\"time\"], air_temp[\"air_temp\"])\n",
        "#ax.set_xlim(air_temp.loc[\"2009\"][\"time\"][0], air_temp.loc[\"2009\"][\"time\"][-1])\n",
        "\n"
      ],
      "execution_count": null,
      "outputs": []
    },
    {
      "cell_type": "markdown",
      "metadata": {
        "id": "TF5I_YqQTJ1o"
      },
      "source": [
        "##Part 5.2.3 - Create a sub-set of the data for analysis\n",
        "Create a sub-set of each dataset containing only the data between September and November 2015.\n",
        "\n",
        "Hint: set the dataset indexes to the time column as we did in session 3 and use .loc to easily select time ranges."
      ]
    },
    {
      "cell_type": "code",
      "metadata": {
        "id": "CxOtBn2DbaXx"
      },
      "source": [
        "air_temp.index = air_temp[\"time\"]\n",
        "air_temp_select = air_temp.loc[\"09-2015\": \"11-2015\"]\n",
        "\n",
        "cave_temp.index = cave_temp[\"time\"]\n",
        "cave_temp_select = cave_temp.loc[\"09-2015\": \"11-2015\"]\n",
        "\n",
        "cave_CO2.index = cave_CO2[\"time\"]\n",
        "cave_CO2_select = cave_CO2.loc[\"09-2015\": \"11-2015\"]"
      ],
      "execution_count": null,
      "outputs": []
    },
    {
      "cell_type": "markdown",
      "metadata": {
        "id": "jL1vcb6rUas3"
      },
      "source": [
        "## Part 5.2.4 - Check the number of samples/sampling rate\n",
        "To do further analysis, it helps if all three datasets have the same amount of data with corresponding timestamps and sampling rate. Check the lenght of each and the sampling rate of each.\n",
        "\n",
        "Hint: you will need to using indexing, and the `DataFrame.value_counts()` method will be useful."
      ]
    },
    {
      "cell_type": "code",
      "metadata": {
        "id": "dNtY-dIbUagp"
      },
      "source": [
        "(cave_CO2_select[\"time\"][1:] - cave_CO2_select[\"time\"][0:-1])"
      ],
      "execution_count": null,
      "outputs": []
    },
    {
      "cell_type": "markdown",
      "metadata": {
        "id": "DG15InoAecIg"
      },
      "source": [
        "# Part 5.3 - Timeseries and interpolation theory - *Mini-Lecture*\n",
        "You will see from the workshop that the rate of data sampling is different in each of the datasets, and is even inconsistent within some of them. To analyse them further, we need them to be at the same rate, so we need to resample or interpolate them.\n",
        "\n",
        "Super simple notes:\n",
        "\n",
        "**Point vs Period:** Data representing a particular location or moment in time, or across a range. E.g. \"daily\" temperature data = temperature at 12 noon each day, vs average temperature across 24 hours.\n",
        "\n",
        "**Resampling:** changing the positions or periods of data points (in e.g. time or spatial domain).\n",
        "\n",
        "**Interpolation:** how you \"get\" values for positions of periods which were not directly measured.\n",
        "\n",
        "**Upsampling:** less observations to more datapoints. E.g. creating daily data from weekly observations. Requires interpolation.\n",
        "\n",
        "**Downsampling:** more observations to less datapoints. E.g. creating quarterly data from monthly observations. Requires interpolation or aggregation.\n",
        "\n",
        "**Common interpolation methods:** linear, spline, nearest\n"
      ]
    },
    {
      "cell_type": "markdown",
      "metadata": {
        "id": "tseaDm4kgk-t"
      },
      "source": [
        "# Part 5.4 - Introduction to SciPy - *Mini-lecture*\n",
        "While Numpy handles multidimensional arrays and various mathematical operations on them, the SciPy library provides a wide range of more advanced functionality which is particularly useful for scientific data analysis.\n",
        "\n",
        "It includes for example modules concerning linear algebra, regression/fitting, integration, signal processing, image manipulation and statistics.\n",
        "\n",
        "SciPy can also refer to a collection of related libraries including Numpy, Pandas, Matplotlib and the SciPy library itself.\n",
        "\n",
        "It contains a module called scipy.interpolate which we will use in the next section.\n",
        "\n",
        "See here:\n",
        "https://www.scipy.org/scipylib/index.html\n",
        "\n",
        "The SciPy cookbook has many useful examples of using SciPy functions:\n",
        "https://scipy-cookbook.readthedocs.io/\n",
        "\n",
        "\n",
        "\n"
      ]
    },
    {
      "cell_type": "markdown",
      "metadata": {
        "id": "yj9tKXMPgxWR"
      },
      "source": [
        "#Part 5.5 - Cave monitoring data excercise part 2 (resampling/interpolation) - *Workshop*\n",
        "We will now resample the datasets so they have the same sampling rate, and that the data corresponds directly in terms of sampling time. We will resample everything to the same sampling rate and times as the cave temperature record."
      ]
    },
    {
      "cell_type": "code",
      "metadata": {
        "id": "rsIk7P6_kO7v"
      },
      "source": [
        "# For all of the below sections we will need the SciPy Interpolate module:\n",
        "from scipy import interpolate"
      ],
      "execution_count": null,
      "outputs": []
    },
    {
      "cell_type": "markdown",
      "metadata": {
        "id": "VNj-z34PFQt2"
      },
      "source": [
        "## Part 5.5.1 - Upsampling outside air temperature\n",
        "The outside air temperature is sampled at a lower rate than the cave temperature, therefore we need to upsample the outside air temperature record.\n",
        "\n",
        "Re-write the following pseudo-code to perform resampling by linear interpolation."
      ]
    },
    {
      "cell_type": "code",
      "metadata": {
        "id": "59ilfSVJFcHG"
      },
      "source": [
        "'''\n",
        "1. Create an interpolation object containing the outside air temperature data where:\n",
        "We use the object \"interp1d\" (actually a class) from the Scipy interpolation \n",
        "<A> is the time column of the outside air temp data\n",
        "   we cannot interpolate using times directly, so \"to_numpy().astype(float) is a trick to convert the times to decimal numbers\"\n",
        "<B> is the temperature column outside air temp data\n",
        "<C> is the type of interpolation - look at the in interp1d help documentation\n",
        "<D> is the variable name to give to the interpolation object\n",
        "'''\n",
        "# <D> = interpolate.interp1d(<A>.to_numpy().astype(float), <B>, kind=<C>)"
      ],
      "execution_count": null,
      "outputs": []
    },
    {
      "cell_type": "code",
      "metadata": {
        "id": "-JnPvNbeiEWr"
      },
      "source": [
        "'''\n",
        "2. Perform the interpolation by providing the times from the cave temperature\n",
        "data set. These are the times where we want to calculate surface air temperatures.\n",
        "<E> is the time column of the cave temp record, converted to decimal numbers as\n",
        "     in <A>\n",
        "<F> is the resampled time-series\n",
        "'''\n",
        "#<F> = <D>(<E>)"
      ],
      "execution_count": null,
      "outputs": []
    },
    {
      "cell_type": "code",
      "metadata": {
        "id": "fxcf3y9Ii4Dz"
      },
      "source": [
        "'''\n",
        "3. Plot the resampled result and compare it to the original.\n",
        "It will be helpful to visualise the datapoints themselves, so use data markers\n",
        "in the plot.\n",
        "'''"
      ],
      "execution_count": null,
      "outputs": []
    },
    {
      "cell_type": "markdown",
      "metadata": {
        "id": "15APgdD3jssA"
      },
      "source": [
        "##Part 5.5.2 - Downsample the cave CO2 data\n",
        "The cave CO2 data is at a much higher and variable sampling rate, so we will downsample it to the cave temperature sampling rate/timings.\n",
        "\n",
        "Use the previous section as a guide. You will need to separately interpolate the CO2 concentration, the d18O and d13C data."
      ]
    },
    {
      "cell_type": "code",
      "metadata": {
        "id": "jB8XGG_vkGrO"
      },
      "source": [
        ""
      ],
      "execution_count": null,
      "outputs": []
    },
    {
      "cell_type": "markdown",
      "metadata": {
        "id": "wupw6hB6l7j5"
      },
      "source": [
        "##Part 5.5.3 - Visualise data relationships.\n",
        "Now the data is directly comparable, we can easily create some simple visualisations (or calculate statistics).\n",
        "\n",
        "Try making a scatter plot(s) of CO2 concentration vs surface temperature, cave temperature, and the difference between cave and surface temperature."
      ]
    },
    {
      "cell_type": "code",
      "metadata": {
        "id": "XzH6-dD5WyA1"
      },
      "source": [
        ""
      ],
      "execution_count": null,
      "outputs": []
    },
    {
      "cell_type": "markdown",
      "metadata": {
        "id": "L22LdVA_kHD3"
      },
      "source": [
        "## Part 5.5.4 - Test interpolation methods - *Workshop*\n",
        "A number of interpolation methods exist besides linear interpolation. Experiment with and compare the different methods provided by interp1d. Which do you think are most appropriate in this context for the up- and downsampling and why?"
      ]
    },
    {
      "cell_type": "code",
      "metadata": {
        "id": "t4GfjIBSkK7R"
      },
      "source": [
        ""
      ],
      "execution_count": null,
      "outputs": []
    },
    {
      "cell_type": "markdown",
      "metadata": {
        "id": "ghM9VJMPseX-"
      },
      "source": [
        "## Part 5.5.5 - Optional: Try out Pandas resampling and interpolation methods - *Workshop*\n",
        "Pandas has DataFrame methods `.resample()` and `.interpolate()` which make resampling very easy (although hide important details for learning what is going on).\n",
        "\n",
        "If you have time, try out the direct Pandas based approach.\n",
        "\n",
        "See documentation:\n",
        "\n",
        "https://pandas.pydata.org/pandas-docs/stable/reference/api/pandas.Series.resample.html\n",
        "\n",
        "https://pandas.pydata.org/pandas-docs/stable/reference/api/pandas.Series.interpolate.html\n",
        "\n",
        "And examples here:\n",
        "\n",
        "https://machinelearningmastery.com/resample-interpolate-time-series-data-python/"
      ]
    }
  ]
}